{
 "cells": [
  {
   "cell_type": "markdown",
   "metadata": {},
   "source": [
    "# Seja um investidor na bolsa de valores com Python\n",
    "\n",
    "**Daniele Nazaré**\n",
    "\n",
    "> Nessa Talk iremos descobrir recursos e ferramentas pré prontas para ajudar traders formularem estratégias na bolsa de valores. Mas o que python tem de tão bom que eu não sei? Diversas ferramentas para matemática financeira, análise de risco na bolsa de valores, ferramentas que geram séries temporais, e várias bibliotecas estatística. Vale a pena assistir essa Talk para entender o universo de Trading e o que python tem a oferecer para os investidores.\n",
    "\n",
    "**Base de dados usada foi do Yahoo Finanças**\n",
    "\n",
    "   [Site Yahoo Finanças](https://br.financas.yahoo.com/industries/Energia-Petroleo-Gas)\n",
    "   \n",
    "\n",
    "## Principais Bibliotecas\n",
    "\n",
    "   1. **Pandas** -\n",
    "   2. **Pandas_Datareader** - Responsável por ler uma base de dados em um servidor externo e armazenar os dados em um objeto do tipo DataFrame \n",
    "   3. **Numpy** - Biblioteca usada para computação numérica e científica\n",
    "   4. **Matplotlib** - Biblioteca para visualização dos dados em um gráfico\n",
    "   5. **DateTime** - Biblioteca para formatação de data\n",
    "   \n"
   ]
  },
  {
   "cell_type": "code",
   "execution_count": 69,
   "metadata": {},
   "outputs": [],
   "source": [
    "import pandas as pd\n",
    "from pandas_datareader import data as dt #Obter dados das cotações no Yahoo Finnance\n",
    "import numpy as np\n",
    "import matplotlib.pyplot as plt\n",
    "\n",
    "import datetime\n",
    "\n",
    "%matplotlib inline"
   ]
  },
  {
   "cell_type": "code",
   "execution_count": 70,
   "metadata": {},
   "outputs": [],
   "source": [
    "#Formatação e definição da data em um determinado período de tempo\n",
    "dataInicio = datetime.datetime(2019,1,1)\n",
    "dataFim = datetime.datetime(2020,1,1)"
   ]
  },
  {
   "cell_type": "markdown",
   "metadata": {},
   "source": [
    "### Acesso a Base de dados\n",
    "    \n",
    "   Os dados estão organizados no objeto DataFrame e abaixo é acessado os dados da Bolsa de Valores da Multinacional **'TSLA'-Tesla**"
   ]
  },
  {
   "cell_type": "code",
   "execution_count": 89,
   "metadata": {},
   "outputs": [],
   "source": [
    "\n",
    "yahooData = dt.get_data_yahoo('TSLA', dataInicio, dataFim)\n",
    "\n",
    "\n"
   ]
  },
  {
   "cell_type": "markdown",
   "metadata": {},
   "source": [
    " ### Campos da Tabela  \n",
    "   \n",
    "   1. **High** - O valor(reais) mais alto do dia\n",
    "   2. **Low** - O valor(reais) mais baixo do dia \n",
    "   3. **Open** - O primeiro valor(reais) do dia quando a Bolsa abriu\n",
    "   4. **Close** - O último valor(reais) do dia quando a Bolsa fechou\n",
    "   5. **Adj Close** - O valor(reais) do fechamento ajustado no dia"
   ]
  },
  {
   "cell_type": "code",
   "execution_count": 90,
   "metadata": {},
   "outputs": [
    {
     "data": {
      "text/html": [
       "<div>\n",
       "<style scoped>\n",
       "    .dataframe tbody tr th:only-of-type {\n",
       "        vertical-align: middle;\n",
       "    }\n",
       "\n",
       "    .dataframe tbody tr th {\n",
       "        vertical-align: top;\n",
       "    }\n",
       "\n",
       "    .dataframe thead th {\n",
       "        text-align: right;\n",
       "    }\n",
       "</style>\n",
       "<table border=\"1\" class=\"dataframe\">\n",
       "  <thead>\n",
       "    <tr style=\"text-align: right;\">\n",
       "      <th></th>\n",
       "      <th>High</th>\n",
       "      <th>Low</th>\n",
       "      <th>Open</th>\n",
       "      <th>Close</th>\n",
       "      <th>Volume</th>\n",
       "      <th>Adj Close</th>\n",
       "    </tr>\n",
       "    <tr>\n",
       "      <th>Date</th>\n",
       "      <th></th>\n",
       "      <th></th>\n",
       "      <th></th>\n",
       "      <th></th>\n",
       "      <th></th>\n",
       "      <th></th>\n",
       "    </tr>\n",
       "  </thead>\n",
       "  <tbody>\n",
       "    <tr>\n",
       "      <th>2019-01-02</th>\n",
       "      <td>63.026001</td>\n",
       "      <td>59.759998</td>\n",
       "      <td>61.220001</td>\n",
       "      <td>62.023998</td>\n",
       "      <td>58293000</td>\n",
       "      <td>62.023998</td>\n",
       "    </tr>\n",
       "    <tr>\n",
       "      <th>2019-01-03</th>\n",
       "      <td>61.880001</td>\n",
       "      <td>59.476002</td>\n",
       "      <td>61.400002</td>\n",
       "      <td>60.071999</td>\n",
       "      <td>34826000</td>\n",
       "      <td>60.071999</td>\n",
       "    </tr>\n",
       "    <tr>\n",
       "      <th>2019-01-04</th>\n",
       "      <td>63.599998</td>\n",
       "      <td>60.546001</td>\n",
       "      <td>61.200001</td>\n",
       "      <td>63.537998</td>\n",
       "      <td>36970500</td>\n",
       "      <td>63.537998</td>\n",
       "    </tr>\n",
       "    <tr>\n",
       "      <th>2019-01-07</th>\n",
       "      <td>67.348000</td>\n",
       "      <td>63.549999</td>\n",
       "      <td>64.344002</td>\n",
       "      <td>66.991997</td>\n",
       "      <td>37756000</td>\n",
       "      <td>66.991997</td>\n",
       "    </tr>\n",
       "    <tr>\n",
       "      <th>2019-01-08</th>\n",
       "      <td>68.802002</td>\n",
       "      <td>65.403999</td>\n",
       "      <td>68.391998</td>\n",
       "      <td>67.070000</td>\n",
       "      <td>35042500</td>\n",
       "      <td>67.070000</td>\n",
       "    </tr>\n",
       "    <tr>\n",
       "      <th>...</th>\n",
       "      <td>...</td>\n",
       "      <td>...</td>\n",
       "      <td>...</td>\n",
       "      <td>...</td>\n",
       "      <td>...</td>\n",
       "      <td>...</td>\n",
       "    </tr>\n",
       "    <tr>\n",
       "      <th>2019-12-24</th>\n",
       "      <td>85.094002</td>\n",
       "      <td>82.538002</td>\n",
       "      <td>83.671997</td>\n",
       "      <td>85.050003</td>\n",
       "      <td>40273500</td>\n",
       "      <td>85.050003</td>\n",
       "    </tr>\n",
       "    <tr>\n",
       "      <th>2019-12-26</th>\n",
       "      <td>86.695999</td>\n",
       "      <td>85.269997</td>\n",
       "      <td>85.582001</td>\n",
       "      <td>86.188004</td>\n",
       "      <td>53169500</td>\n",
       "      <td>86.188004</td>\n",
       "    </tr>\n",
       "    <tr>\n",
       "      <th>2019-12-27</th>\n",
       "      <td>87.061996</td>\n",
       "      <td>85.222000</td>\n",
       "      <td>87.000000</td>\n",
       "      <td>86.075996</td>\n",
       "      <td>49728500</td>\n",
       "      <td>86.075996</td>\n",
       "    </tr>\n",
       "    <tr>\n",
       "      <th>2019-12-30</th>\n",
       "      <td>85.800003</td>\n",
       "      <td>81.851997</td>\n",
       "      <td>85.758003</td>\n",
       "      <td>82.940002</td>\n",
       "      <td>62932000</td>\n",
       "      <td>82.940002</td>\n",
       "    </tr>\n",
       "    <tr>\n",
       "      <th>2019-12-31</th>\n",
       "      <td>84.258003</td>\n",
       "      <td>80.416000</td>\n",
       "      <td>81.000000</td>\n",
       "      <td>83.666000</td>\n",
       "      <td>51428500</td>\n",
       "      <td>83.666000</td>\n",
       "    </tr>\n",
       "  </tbody>\n",
       "</table>\n",
       "<p>252 rows × 6 columns</p>\n",
       "</div>"
      ],
      "text/plain": [
       "                 High        Low       Open      Close    Volume  Adj Close\n",
       "Date                                                                       \n",
       "2019-01-02  63.026001  59.759998  61.220001  62.023998  58293000  62.023998\n",
       "2019-01-03  61.880001  59.476002  61.400002  60.071999  34826000  60.071999\n",
       "2019-01-04  63.599998  60.546001  61.200001  63.537998  36970500  63.537998\n",
       "2019-01-07  67.348000  63.549999  64.344002  66.991997  37756000  66.991997\n",
       "2019-01-08  68.802002  65.403999  68.391998  67.070000  35042500  67.070000\n",
       "...               ...        ...        ...        ...       ...        ...\n",
       "2019-12-24  85.094002  82.538002  83.671997  85.050003  40273500  85.050003\n",
       "2019-12-26  86.695999  85.269997  85.582001  86.188004  53169500  86.188004\n",
       "2019-12-27  87.061996  85.222000  87.000000  86.075996  49728500  86.075996\n",
       "2019-12-30  85.800003  81.851997  85.758003  82.940002  62932000  82.940002\n",
       "2019-12-31  84.258003  80.416000  81.000000  83.666000  51428500  83.666000\n",
       "\n",
       "[252 rows x 6 columns]"
      ]
     },
     "execution_count": 90,
     "metadata": {},
     "output_type": "execute_result"
    }
   ],
   "source": [
    "yahooData"
   ]
  },
  {
   "cell_type": "code",
   "execution_count": 91,
   "metadata": {},
   "outputs": [
    {
     "data": {
      "text/html": [
       "<div>\n",
       "<style scoped>\n",
       "    .dataframe tbody tr th:only-of-type {\n",
       "        vertical-align: middle;\n",
       "    }\n",
       "\n",
       "    .dataframe tbody tr th {\n",
       "        vertical-align: top;\n",
       "    }\n",
       "\n",
       "    .dataframe thead th {\n",
       "        text-align: right;\n",
       "    }\n",
       "</style>\n",
       "<table border=\"1\" class=\"dataframe\">\n",
       "  <thead>\n",
       "    <tr style=\"text-align: right;\">\n",
       "      <th></th>\n",
       "      <th>High</th>\n",
       "      <th>Low</th>\n",
       "      <th>Open</th>\n",
       "      <th>Close</th>\n",
       "      <th>Volume</th>\n",
       "      <th>Adj Close</th>\n",
       "    </tr>\n",
       "  </thead>\n",
       "  <tbody>\n",
       "    <tr>\n",
       "      <th>count</th>\n",
       "      <td>252.000000</td>\n",
       "      <td>252.000000</td>\n",
       "      <td>252.000000</td>\n",
       "      <td>252.000000</td>\n",
       "      <td>2.520000e+02</td>\n",
       "      <td>252.000000</td>\n",
       "    </tr>\n",
       "    <tr>\n",
       "      <th>mean</th>\n",
       "      <td>55.529960</td>\n",
       "      <td>53.722508</td>\n",
       "      <td>54.605627</td>\n",
       "      <td>54.706040</td>\n",
       "      <td>4.579461e+07</td>\n",
       "      <td>54.706040</td>\n",
       "    </tr>\n",
       "    <tr>\n",
       "      <th>std</th>\n",
       "      <td>10.639957</td>\n",
       "      <td>10.412554</td>\n",
       "      <td>10.469095</td>\n",
       "      <td>10.606053</td>\n",
       "      <td>2.382350e+07</td>\n",
       "      <td>10.606053</td>\n",
       "    </tr>\n",
       "    <tr>\n",
       "      <th>min</th>\n",
       "      <td>37.335999</td>\n",
       "      <td>35.397999</td>\n",
       "      <td>36.220001</td>\n",
       "      <td>35.793999</td>\n",
       "      <td>1.232800e+07</td>\n",
       "      <td>35.793999</td>\n",
       "    </tr>\n",
       "    <tr>\n",
       "      <th>25%</th>\n",
       "      <td>46.954001</td>\n",
       "      <td>45.502499</td>\n",
       "      <td>46.246501</td>\n",
       "      <td>46.444001</td>\n",
       "      <td>3.028275e+07</td>\n",
       "      <td>46.444001</td>\n",
       "    </tr>\n",
       "    <tr>\n",
       "      <th>50%</th>\n",
       "      <td>52.796001</td>\n",
       "      <td>51.267000</td>\n",
       "      <td>51.986000</td>\n",
       "      <td>52.059000</td>\n",
       "      <td>3.872175e+07</td>\n",
       "      <td>52.059000</td>\n",
       "    </tr>\n",
       "    <tr>\n",
       "      <th>75%</th>\n",
       "      <td>63.230000</td>\n",
       "      <td>60.624999</td>\n",
       "      <td>61.630001</td>\n",
       "      <td>62.382000</td>\n",
       "      <td>5.325762e+07</td>\n",
       "      <td>62.382000</td>\n",
       "    </tr>\n",
       "    <tr>\n",
       "      <th>max</th>\n",
       "      <td>87.061996</td>\n",
       "      <td>85.269997</td>\n",
       "      <td>87.000000</td>\n",
       "      <td>86.188004</td>\n",
       "      <td>1.500305e+08</td>\n",
       "      <td>86.188004</td>\n",
       "    </tr>\n",
       "  </tbody>\n",
       "</table>\n",
       "</div>"
      ],
      "text/plain": [
       "             High         Low        Open       Close        Volume  \\\n",
       "count  252.000000  252.000000  252.000000  252.000000  2.520000e+02   \n",
       "mean    55.529960   53.722508   54.605627   54.706040  4.579461e+07   \n",
       "std     10.639957   10.412554   10.469095   10.606053  2.382350e+07   \n",
       "min     37.335999   35.397999   36.220001   35.793999  1.232800e+07   \n",
       "25%     46.954001   45.502499   46.246501   46.444001  3.028275e+07   \n",
       "50%     52.796001   51.267000   51.986000   52.059000  3.872175e+07   \n",
       "75%     63.230000   60.624999   61.630001   62.382000  5.325762e+07   \n",
       "max     87.061996   85.269997   87.000000   86.188004  1.500305e+08   \n",
       "\n",
       "        Adj Close  \n",
       "count  252.000000  \n",
       "mean    54.706040  \n",
       "std     10.606053  \n",
       "min     35.793999  \n",
       "25%     46.444001  \n",
       "50%     52.059000  \n",
       "75%     62.382000  \n",
       "max     86.188004  "
      ]
     },
     "execution_count": 91,
     "metadata": {},
     "output_type": "execute_result"
    }
   ],
   "source": [
    "yahooData.describe()"
   ]
  },
  {
   "cell_type": "code",
   "execution_count": 75,
   "metadata": {},
   "outputs": [
    {
     "data": {
      "text/plain": [
       "17.669231691554145"
      ]
     },
     "execution_count": 75,
     "metadata": {},
     "output_type": "execute_result"
    }
   ],
   "source": [
    "#Taxa simples de retorno\n",
    "\n",
    "yahooData['Retorno'] = (yahooData['Adj Close'] / yahooData['Adj Close'].shift(1) - 1) *100 \n",
    "\n",
    "#Rentabilidade Anual\n",
    "\n",
    "yahooData['Retorno'].max()"
   ]
  },
  {
   "cell_type": "code",
   "execution_count": 76,
   "metadata": {},
   "outputs": [
    {
     "data": {
      "text/html": [
       "<div>\n",
       "<style scoped>\n",
       "    .dataframe tbody tr th:only-of-type {\n",
       "        vertical-align: middle;\n",
       "    }\n",
       "\n",
       "    .dataframe tbody tr th {\n",
       "        vertical-align: top;\n",
       "    }\n",
       "\n",
       "    .dataframe thead th {\n",
       "        text-align: right;\n",
       "    }\n",
       "</style>\n",
       "<table border=\"1\" class=\"dataframe\">\n",
       "  <thead>\n",
       "    <tr style=\"text-align: right;\">\n",
       "      <th></th>\n",
       "      <th>High</th>\n",
       "      <th>Low</th>\n",
       "      <th>Open</th>\n",
       "      <th>Close</th>\n",
       "      <th>Volume</th>\n",
       "      <th>Adj Close</th>\n",
       "      <th>Retorno</th>\n",
       "    </tr>\n",
       "    <tr>\n",
       "      <th>Date</th>\n",
       "      <th></th>\n",
       "      <th></th>\n",
       "      <th></th>\n",
       "      <th></th>\n",
       "      <th></th>\n",
       "      <th></th>\n",
       "      <th></th>\n",
       "    </tr>\n",
       "  </thead>\n",
       "  <tbody>\n",
       "    <tr>\n",
       "      <th>2019-10-24</th>\n",
       "      <td>60.986</td>\n",
       "      <td>57.84</td>\n",
       "      <td>59.674</td>\n",
       "      <td>59.936001</td>\n",
       "      <td>148604500</td>\n",
       "      <td>59.936001</td>\n",
       "      <td>17.669232</td>\n",
       "    </tr>\n",
       "  </tbody>\n",
       "</table>\n",
       "</div>"
      ],
      "text/plain": [
       "              High    Low    Open      Close     Volume  Adj Close    Retorno\n",
       "Date                                                                         \n",
       "2019-10-24  60.986  57.84  59.674  59.936001  148604500  59.936001  17.669232"
      ]
     },
     "execution_count": 76,
     "metadata": {},
     "output_type": "execute_result"
    }
   ],
   "source": [
    "yahooData[yahooData['Retorno'] == yahooData['Retorno'].max()]"
   ]
  },
  {
   "cell_type": "code",
   "execution_count": 77,
   "metadata": {},
   "outputs": [
    {
     "data": {
      "text/plain": [
       "-13.613714821289403"
      ]
     },
     "execution_count": 77,
     "metadata": {},
     "output_type": "execute_result"
    }
   ],
   "source": [
    "yahooData['Retorno'].min()"
   ]
  },
  {
   "cell_type": "code",
   "execution_count": 78,
   "metadata": {},
   "outputs": [
    {
     "data": {
      "text/html": [
       "<div>\n",
       "<style scoped>\n",
       "    .dataframe tbody tr th:only-of-type {\n",
       "        vertical-align: middle;\n",
       "    }\n",
       "\n",
       "    .dataframe tbody tr th {\n",
       "        vertical-align: top;\n",
       "    }\n",
       "\n",
       "    .dataframe thead th {\n",
       "        text-align: right;\n",
       "    }\n",
       "</style>\n",
       "<table border=\"1\" class=\"dataframe\">\n",
       "  <thead>\n",
       "    <tr style=\"text-align: right;\">\n",
       "      <th></th>\n",
       "      <th>High</th>\n",
       "      <th>Low</th>\n",
       "      <th>Open</th>\n",
       "      <th>Close</th>\n",
       "      <th>Volume</th>\n",
       "      <th>Adj Close</th>\n",
       "      <th>Retorno</th>\n",
       "    </tr>\n",
       "    <tr>\n",
       "      <th>Date</th>\n",
       "      <th></th>\n",
       "      <th></th>\n",
       "      <th></th>\n",
       "      <th></th>\n",
       "      <th></th>\n",
       "      <th></th>\n",
       "      <th></th>\n",
       "    </tr>\n",
       "  </thead>\n",
       "  <tbody>\n",
       "    <tr>\n",
       "      <th>2019-07-25</th>\n",
       "      <td>46.900002</td>\n",
       "      <td>45.110001</td>\n",
       "      <td>46.700001</td>\n",
       "      <td>45.764</td>\n",
       "      <td>112091500</td>\n",
       "      <td>45.764</td>\n",
       "      <td>-13.613715</td>\n",
       "    </tr>\n",
       "  </tbody>\n",
       "</table>\n",
       "</div>"
      ],
      "text/plain": [
       "                 High        Low       Open   Close     Volume  Adj Close  \\\n",
       "Date                                                                        \n",
       "2019-07-25  46.900002  45.110001  46.700001  45.764  112091500     45.764   \n",
       "\n",
       "              Retorno  \n",
       "Date                   \n",
       "2019-07-25 -13.613715  "
      ]
     },
     "execution_count": 78,
     "metadata": {},
     "output_type": "execute_result"
    }
   ],
   "source": [
    "yahooData[yahooData['Retorno'] == yahooData['Retorno'].min()]"
   ]
  },
  {
   "cell_type": "code",
   "execution_count": 10,
   "metadata": {},
   "outputs": [
    {
     "data": {
      "text/plain": [
       "30.382096915538007"
      ]
     },
     "execution_count": 10,
     "metadata": {},
     "output_type": "execute_result"
    }
   ],
   "source": [
    "#Taxa de Retorno Anual\n",
    "yahooData['Retorno'].mean() * 250 "
   ]
  },
  {
   "cell_type": "code",
   "execution_count": 11,
   "metadata": {},
   "outputs": [
    {
     "data": {
      "text/plain": [
       "<matplotlib.axes._subplots.AxesSubplot at 0x7fa776ab4310>"
      ]
     },
     "execution_count": 11,
     "metadata": {},
     "output_type": "execute_result"
    },
    {
     "data": {
      "image/png": "[encoded data removed]",
      "text/plain": [
       "<Figure size 1152x576 with 1 Axes>"
      ]
     },
     "metadata": {
      "needs_background": "light"
     },
     "output_type": "display_data"
    }
   ],
   "source": [
    "yahooData['Retorno'].plot(figsize=(16,8))"
   ]
  },
  {
   "cell_type": "code",
   "execution_count": 79,
   "metadata": {},
   "outputs": [
    {
     "data": {
      "text/plain": [
       "<matplotlib.axes._subplots.AxesSubplot at 0x7fa77090f280>"
      ]
     },
     "execution_count": 79,
     "metadata": {},
     "output_type": "execute_result"
    },
    {
     "data": {
      "image/png": "[encoded data removed]",
      "text/plain": [
       "<Figure size 432x288 with 1 Axes>"
      ]
     },
     "metadata": {
      "needs_background": "light"
     },
     "output_type": "display_data"
    }
   ],
   "source": [
    "yahooData['Adj Close'].plot()"
   ]
  },
  {
   "cell_type": "code",
   "execution_count": 81,
   "metadata": {},
   "outputs": [
    {
     "data": {
      "text/html": [
       "<div>\n",
       "<style scoped>\n",
       "    .dataframe tbody tr th:only-of-type {\n",
       "        vertical-align: middle;\n",
       "    }\n",
       "\n",
       "    .dataframe tbody tr th {\n",
       "        vertical-align: top;\n",
       "    }\n",
       "\n",
       "    .dataframe thead th {\n",
       "        text-align: right;\n",
       "    }\n",
       "</style>\n",
       "<table border=\"1\" class=\"dataframe\">\n",
       "  <thead>\n",
       "    <tr style=\"text-align: right;\">\n",
       "      <th></th>\n",
       "      <th>High</th>\n",
       "      <th>Low</th>\n",
       "      <th>Open</th>\n",
       "      <th>Close</th>\n",
       "      <th>Volume</th>\n",
       "      <th>Adj Close</th>\n",
       "      <th>Retorno</th>\n",
       "      <th>Variacao</th>\n",
       "    </tr>\n",
       "    <tr>\n",
       "      <th>Date</th>\n",
       "      <th></th>\n",
       "      <th></th>\n",
       "      <th></th>\n",
       "      <th></th>\n",
       "      <th></th>\n",
       "      <th></th>\n",
       "      <th></th>\n",
       "      <th></th>\n",
       "    </tr>\n",
       "  </thead>\n",
       "  <tbody>\n",
       "    <tr>\n",
       "      <th>2019-01-02</th>\n",
       "      <td>63.026001</td>\n",
       "      <td>59.759998</td>\n",
       "      <td>61.220001</td>\n",
       "      <td>62.023998</td>\n",
       "      <td>58293000</td>\n",
       "      <td>62.023998</td>\n",
       "      <td>NaN</td>\n",
       "      <td>3.266003</td>\n",
       "    </tr>\n",
       "    <tr>\n",
       "      <th>2019-01-03</th>\n",
       "      <td>61.880001</td>\n",
       "      <td>59.476002</td>\n",
       "      <td>61.400002</td>\n",
       "      <td>60.071999</td>\n",
       "      <td>34826000</td>\n",
       "      <td>60.071999</td>\n",
       "      <td>-3.147168</td>\n",
       "      <td>2.403999</td>\n",
       "    </tr>\n",
       "    <tr>\n",
       "      <th>2019-01-04</th>\n",
       "      <td>63.599998</td>\n",
       "      <td>60.546001</td>\n",
       "      <td>61.200001</td>\n",
       "      <td>63.537998</td>\n",
       "      <td>36970500</td>\n",
       "      <td>63.537998</td>\n",
       "      <td>5.769742</td>\n",
       "      <td>3.053997</td>\n",
       "    </tr>\n",
       "    <tr>\n",
       "      <th>2019-01-07</th>\n",
       "      <td>67.348000</td>\n",
       "      <td>63.549999</td>\n",
       "      <td>64.344002</td>\n",
       "      <td>66.991997</td>\n",
       "      <td>37756000</td>\n",
       "      <td>66.991997</td>\n",
       "      <td>5.436115</td>\n",
       "      <td>3.798000</td>\n",
       "    </tr>\n",
       "    <tr>\n",
       "      <th>2019-01-08</th>\n",
       "      <td>68.802002</td>\n",
       "      <td>65.403999</td>\n",
       "      <td>68.391998</td>\n",
       "      <td>67.070000</td>\n",
       "      <td>35042500</td>\n",
       "      <td>67.070000</td>\n",
       "      <td>0.116436</td>\n",
       "      <td>3.398003</td>\n",
       "    </tr>\n",
       "    <tr>\n",
       "      <th>...</th>\n",
       "      <td>...</td>\n",
       "      <td>...</td>\n",
       "      <td>...</td>\n",
       "      <td>...</td>\n",
       "      <td>...</td>\n",
       "      <td>...</td>\n",
       "      <td>...</td>\n",
       "      <td>...</td>\n",
       "    </tr>\n",
       "    <tr>\n",
       "      <th>2019-12-24</th>\n",
       "      <td>85.094002</td>\n",
       "      <td>82.538002</td>\n",
       "      <td>83.671997</td>\n",
       "      <td>85.050003</td>\n",
       "      <td>40273500</td>\n",
       "      <td>85.050003</td>\n",
       "      <td>1.438387</td>\n",
       "      <td>2.556000</td>\n",
       "    </tr>\n",
       "    <tr>\n",
       "      <th>2019-12-26</th>\n",
       "      <td>86.695999</td>\n",
       "      <td>85.269997</td>\n",
       "      <td>85.582001</td>\n",
       "      <td>86.188004</td>\n",
       "      <td>53169500</td>\n",
       "      <td>86.188004</td>\n",
       "      <td>1.338037</td>\n",
       "      <td>1.426003</td>\n",
       "    </tr>\n",
       "    <tr>\n",
       "      <th>2019-12-27</th>\n",
       "      <td>87.061996</td>\n",
       "      <td>85.222000</td>\n",
       "      <td>87.000000</td>\n",
       "      <td>86.075996</td>\n",
       "      <td>49728500</td>\n",
       "      <td>86.075996</td>\n",
       "      <td>-0.129957</td>\n",
       "      <td>1.839996</td>\n",
       "    </tr>\n",
       "    <tr>\n",
       "      <th>2019-12-30</th>\n",
       "      <td>85.800003</td>\n",
       "      <td>81.851997</td>\n",
       "      <td>85.758003</td>\n",
       "      <td>82.940002</td>\n",
       "      <td>62932000</td>\n",
       "      <td>82.940002</td>\n",
       "      <td>-3.643285</td>\n",
       "      <td>3.948006</td>\n",
       "    </tr>\n",
       "    <tr>\n",
       "      <th>2019-12-31</th>\n",
       "      <td>84.258003</td>\n",
       "      <td>80.416000</td>\n",
       "      <td>81.000000</td>\n",
       "      <td>83.666000</td>\n",
       "      <td>51428500</td>\n",
       "      <td>83.666000</td>\n",
       "      <td>0.875329</td>\n",
       "      <td>3.842003</td>\n",
       "    </tr>\n",
       "  </tbody>\n",
       "</table>\n",
       "<p>252 rows × 8 columns</p>\n",
       "</div>"
      ],
      "text/plain": [
       "                 High        Low       Open      Close    Volume  Adj Close  \\\n",
       "Date                                                                          \n",
       "2019-01-02  63.026001  59.759998  61.220001  62.023998  58293000  62.023998   \n",
       "2019-01-03  61.880001  59.476002  61.400002  60.071999  34826000  60.071999   \n",
       "2019-01-04  63.599998  60.546001  61.200001  63.537998  36970500  63.537998   \n",
       "2019-01-07  67.348000  63.549999  64.344002  66.991997  37756000  66.991997   \n",
       "2019-01-08  68.802002  65.403999  68.391998  67.070000  35042500  67.070000   \n",
       "...               ...        ...        ...        ...       ...        ...   \n",
       "2019-12-24  85.094002  82.538002  83.671997  85.050003  40273500  85.050003   \n",
       "2019-12-26  86.695999  85.269997  85.582001  86.188004  53169500  86.188004   \n",
       "2019-12-27  87.061996  85.222000  87.000000  86.075996  49728500  86.075996   \n",
       "2019-12-30  85.800003  81.851997  85.758003  82.940002  62932000  82.940002   \n",
       "2019-12-31  84.258003  80.416000  81.000000  83.666000  51428500  83.666000   \n",
       "\n",
       "             Retorno  Variacao  \n",
       "Date                            \n",
       "2019-01-02       NaN  3.266003  \n",
       "2019-01-03 -3.147168  2.403999  \n",
       "2019-01-04  5.769742  3.053997  \n",
       "2019-01-07  5.436115  3.798000  \n",
       "2019-01-08  0.116436  3.398003  \n",
       "...              ...       ...  \n",
       "2019-12-24  1.438387  2.556000  \n",
       "2019-12-26  1.338037  1.426003  \n",
       "2019-12-27 -0.129957  1.839996  \n",
       "2019-12-30 -3.643285  3.948006  \n",
       "2019-12-31  0.875329  3.842003  \n",
       "\n",
       "[252 rows x 8 columns]"
      ]
     },
     "execution_count": 81,
     "metadata": {},
     "output_type": "execute_result"
    }
   ],
   "source": [
    "yahooData['Variacao'] = yahooData['High'] - yahooData['Low']\n",
    "yahooData"
   ]
  },
  {
   "cell_type": "code",
   "execution_count": 82,
   "metadata": {},
   "outputs": [
    {
     "data": {
      "text/html": [
       "<div>\n",
       "<style scoped>\n",
       "    .dataframe tbody tr th:only-of-type {\n",
       "        vertical-align: middle;\n",
       "    }\n",
       "\n",
       "    .dataframe tbody tr th {\n",
       "        vertical-align: top;\n",
       "    }\n",
       "\n",
       "    .dataframe thead th {\n",
       "        text-align: right;\n",
       "    }\n",
       "</style>\n",
       "<table border=\"1\" class=\"dataframe\">\n",
       "  <thead>\n",
       "    <tr style=\"text-align: right;\">\n",
       "      <th></th>\n",
       "      <th>High</th>\n",
       "      <th>Low</th>\n",
       "      <th>Open</th>\n",
       "      <th>Close</th>\n",
       "      <th>Volume</th>\n",
       "      <th>Adj Close</th>\n",
       "      <th>Retorno</th>\n",
       "      <th>Variacao</th>\n",
       "    </tr>\n",
       "    <tr>\n",
       "      <th>Date</th>\n",
       "      <th></th>\n",
       "      <th></th>\n",
       "      <th></th>\n",
       "      <th></th>\n",
       "      <th></th>\n",
       "      <th></th>\n",
       "      <th></th>\n",
       "      <th></th>\n",
       "    </tr>\n",
       "  </thead>\n",
       "  <tbody>\n",
       "    <tr>\n",
       "      <th>2019-01-02</th>\n",
       "      <td>63.026001</td>\n",
       "      <td>59.759998</td>\n",
       "      <td>61.220001</td>\n",
       "      <td>62.023998</td>\n",
       "      <td>58293000</td>\n",
       "      <td>62.023998</td>\n",
       "      <td>NaN</td>\n",
       "      <td>3.266003</td>\n",
       "    </tr>\n",
       "    <tr>\n",
       "      <th>2019-01-03</th>\n",
       "      <td>61.880001</td>\n",
       "      <td>59.476002</td>\n",
       "      <td>61.400002</td>\n",
       "      <td>60.071999</td>\n",
       "      <td>34826000</td>\n",
       "      <td>60.071999</td>\n",
       "      <td>-3.147168</td>\n",
       "      <td>2.403999</td>\n",
       "    </tr>\n",
       "    <tr>\n",
       "      <th>2019-01-04</th>\n",
       "      <td>63.599998</td>\n",
       "      <td>60.546001</td>\n",
       "      <td>61.200001</td>\n",
       "      <td>63.537998</td>\n",
       "      <td>36970500</td>\n",
       "      <td>63.537998</td>\n",
       "      <td>5.769742</td>\n",
       "      <td>3.053997</td>\n",
       "    </tr>\n",
       "    <tr>\n",
       "      <th>2019-01-07</th>\n",
       "      <td>67.348000</td>\n",
       "      <td>63.549999</td>\n",
       "      <td>64.344002</td>\n",
       "      <td>66.991997</td>\n",
       "      <td>37756000</td>\n",
       "      <td>66.991997</td>\n",
       "      <td>5.436115</td>\n",
       "      <td>3.798000</td>\n",
       "    </tr>\n",
       "    <tr>\n",
       "      <th>2019-01-08</th>\n",
       "      <td>68.802002</td>\n",
       "      <td>65.403999</td>\n",
       "      <td>68.391998</td>\n",
       "      <td>67.070000</td>\n",
       "      <td>35042500</td>\n",
       "      <td>67.070000</td>\n",
       "      <td>0.116436</td>\n",
       "      <td>3.398003</td>\n",
       "    </tr>\n",
       "  </tbody>\n",
       "</table>\n",
       "</div>"
      ],
      "text/plain": [
       "                 High        Low       Open      Close    Volume  Adj Close  \\\n",
       "Date                                                                          \n",
       "2019-01-02  63.026001  59.759998  61.220001  62.023998  58293000  62.023998   \n",
       "2019-01-03  61.880001  59.476002  61.400002  60.071999  34826000  60.071999   \n",
       "2019-01-04  63.599998  60.546001  61.200001  63.537998  36970500  63.537998   \n",
       "2019-01-07  67.348000  63.549999  64.344002  66.991997  37756000  66.991997   \n",
       "2019-01-08  68.802002  65.403999  68.391998  67.070000  35042500  67.070000   \n",
       "\n",
       "             Retorno  Variacao  \n",
       "Date                            \n",
       "2019-01-02       NaN  3.266003  \n",
       "2019-01-03 -3.147168  2.403999  \n",
       "2019-01-04  5.769742  3.053997  \n",
       "2019-01-07  5.436115  3.798000  \n",
       "2019-01-08  0.116436  3.398003  "
      ]
     },
     "execution_count": 82,
     "metadata": {},
     "output_type": "execute_result"
    }
   ],
   "source": [
    "yahooData.head()\n",
    "\n"
   ]
  },
  {
   "cell_type": "code",
   "execution_count": 83,
   "metadata": {
    "scrolled": true
   },
   "outputs": [
    {
     "data": {
      "text/html": [
       "<div>\n",
       "<style scoped>\n",
       "    .dataframe tbody tr th:only-of-type {\n",
       "        vertical-align: middle;\n",
       "    }\n",
       "\n",
       "    .dataframe tbody tr th {\n",
       "        vertical-align: top;\n",
       "    }\n",
       "\n",
       "    .dataframe thead th {\n",
       "        text-align: right;\n",
       "    }\n",
       "</style>\n",
       "<table border=\"1\" class=\"dataframe\">\n",
       "  <thead>\n",
       "    <tr style=\"text-align: right;\">\n",
       "      <th></th>\n",
       "      <th>High</th>\n",
       "      <th>Low</th>\n",
       "      <th>Open</th>\n",
       "      <th>Close</th>\n",
       "      <th>Volume</th>\n",
       "      <th>Adj Close</th>\n",
       "      <th>Retorno</th>\n",
       "      <th>Variacao</th>\n",
       "    </tr>\n",
       "    <tr>\n",
       "      <th>Date</th>\n",
       "      <th></th>\n",
       "      <th></th>\n",
       "      <th></th>\n",
       "      <th></th>\n",
       "      <th></th>\n",
       "      <th></th>\n",
       "      <th></th>\n",
       "      <th></th>\n",
       "    </tr>\n",
       "  </thead>\n",
       "  <tbody>\n",
       "    <tr>\n",
       "      <th>2019-12-24</th>\n",
       "      <td>85.094002</td>\n",
       "      <td>82.538002</td>\n",
       "      <td>83.671997</td>\n",
       "      <td>85.050003</td>\n",
       "      <td>40273500</td>\n",
       "      <td>85.050003</td>\n",
       "      <td>1.438387</td>\n",
       "      <td>2.556000</td>\n",
       "    </tr>\n",
       "    <tr>\n",
       "      <th>2019-12-26</th>\n",
       "      <td>86.695999</td>\n",
       "      <td>85.269997</td>\n",
       "      <td>85.582001</td>\n",
       "      <td>86.188004</td>\n",
       "      <td>53169500</td>\n",
       "      <td>86.188004</td>\n",
       "      <td>1.338037</td>\n",
       "      <td>1.426003</td>\n",
       "    </tr>\n",
       "    <tr>\n",
       "      <th>2019-12-27</th>\n",
       "      <td>87.061996</td>\n",
       "      <td>85.222000</td>\n",
       "      <td>87.000000</td>\n",
       "      <td>86.075996</td>\n",
       "      <td>49728500</td>\n",
       "      <td>86.075996</td>\n",
       "      <td>-0.129957</td>\n",
       "      <td>1.839996</td>\n",
       "    </tr>\n",
       "    <tr>\n",
       "      <th>2019-12-30</th>\n",
       "      <td>85.800003</td>\n",
       "      <td>81.851997</td>\n",
       "      <td>85.758003</td>\n",
       "      <td>82.940002</td>\n",
       "      <td>62932000</td>\n",
       "      <td>82.940002</td>\n",
       "      <td>-3.643285</td>\n",
       "      <td>3.948006</td>\n",
       "    </tr>\n",
       "    <tr>\n",
       "      <th>2019-12-31</th>\n",
       "      <td>84.258003</td>\n",
       "      <td>80.416000</td>\n",
       "      <td>81.000000</td>\n",
       "      <td>83.666000</td>\n",
       "      <td>51428500</td>\n",
       "      <td>83.666000</td>\n",
       "      <td>0.875329</td>\n",
       "      <td>3.842003</td>\n",
       "    </tr>\n",
       "  </tbody>\n",
       "</table>\n",
       "</div>"
      ],
      "text/plain": [
       "                 High        Low       Open      Close    Volume  Adj Close  \\\n",
       "Date                                                                          \n",
       "2019-12-24  85.094002  82.538002  83.671997  85.050003  40273500  85.050003   \n",
       "2019-12-26  86.695999  85.269997  85.582001  86.188004  53169500  86.188004   \n",
       "2019-12-27  87.061996  85.222000  87.000000  86.075996  49728500  86.075996   \n",
       "2019-12-30  85.800003  81.851997  85.758003  82.940002  62932000  82.940002   \n",
       "2019-12-31  84.258003  80.416000  81.000000  83.666000  51428500  83.666000   \n",
       "\n",
       "             Retorno  Variacao  \n",
       "Date                            \n",
       "2019-12-24  1.438387  2.556000  \n",
       "2019-12-26  1.338037  1.426003  \n",
       "2019-12-27 -0.129957  1.839996  \n",
       "2019-12-30 -3.643285  3.948006  \n",
       "2019-12-31  0.875329  3.842003  "
      ]
     },
     "execution_count": 83,
     "metadata": {},
     "output_type": "execute_result"
    }
   ],
   "source": [
    "\n",
    "yahooData.tail()"
   ]
  },
  {
   "cell_type": "code",
   "execution_count": 94,
   "metadata": {},
   "outputs": [
    {
     "data": {
      "text/plain": [
       "<matplotlib.legend.Legend at 0x7fa770c269a0>"
      ]
     },
     "execution_count": 94,
     "metadata": {},
     "output_type": "execute_result"
    },
    {
     "data": {
      "image/png": "[encoded data removed]",
      "text/plain": [
       "<Figure size 1080x576 with 1 Axes>"
      ]
     },
     "metadata": {
      "needs_background": "light"
     },
     "output_type": "display_data"
    }
   ],
   "source": [
    "yahooData['Close'].plot(figsize=(15,8),label='IBOVESPA')\n",
    "yahooData['Close'].rolling(25).mean().plot(label='MM25')\n",
    "yahooData['Close'].rolling(60).mean().plot(label='MM60')#Media móvel\n",
    "plt.legend()"
   ]
  },
  {
   "cell_type": "code",
   "execution_count": 93,
   "metadata": {},
   "outputs": [
    {
     "data": {
      "text/html": [
       "<div>\n",
       "<style scoped>\n",
       "    .dataframe tbody tr th:only-of-type {\n",
       "        vertical-align: middle;\n",
       "    }\n",
       "\n",
       "    .dataframe tbody tr th {\n",
       "        vertical-align: top;\n",
       "    }\n",
       "\n",
       "    .dataframe thead th {\n",
       "        text-align: right;\n",
       "    }\n",
       "</style>\n",
       "<table border=\"1\" class=\"dataframe\">\n",
       "  <thead>\n",
       "    <tr style=\"text-align: right;\">\n",
       "      <th></th>\n",
       "      <th>High</th>\n",
       "      <th>Low</th>\n",
       "      <th>Open</th>\n",
       "      <th>Close</th>\n",
       "      <th>Volume</th>\n",
       "      <th>Adj Close</th>\n",
       "    </tr>\n",
       "    <tr>\n",
       "      <th>Date</th>\n",
       "      <th></th>\n",
       "      <th></th>\n",
       "      <th></th>\n",
       "      <th></th>\n",
       "      <th></th>\n",
       "      <th></th>\n",
       "    </tr>\n",
       "  </thead>\n",
       "  <tbody>\n",
       "    <tr>\n",
       "      <th>2019-07-01</th>\n",
       "      <td>46.619999</td>\n",
       "      <td>45.256001</td>\n",
       "      <td>46.042000</td>\n",
       "      <td>45.433998</td>\n",
       "      <td>41067000</td>\n",
       "      <td>45.433998</td>\n",
       "    </tr>\n",
       "    <tr>\n",
       "      <th>2019-07-02</th>\n",
       "      <td>45.830002</td>\n",
       "      <td>44.444000</td>\n",
       "      <td>45.778000</td>\n",
       "      <td>44.910000</td>\n",
       "      <td>46295000</td>\n",
       "      <td>44.910000</td>\n",
       "    </tr>\n",
       "    <tr>\n",
       "      <th>2019-07-03</th>\n",
       "      <td>48.313999</td>\n",
       "      <td>46.902000</td>\n",
       "      <td>47.877998</td>\n",
       "      <td>46.980000</td>\n",
       "      <td>71005500</td>\n",
       "      <td>46.980000</td>\n",
       "    </tr>\n",
       "    <tr>\n",
       "      <th>2019-07-05</th>\n",
       "      <td>47.090000</td>\n",
       "      <td>46.160000</td>\n",
       "      <td>46.914001</td>\n",
       "      <td>46.619999</td>\n",
       "      <td>35328500</td>\n",
       "      <td>46.619999</td>\n",
       "    </tr>\n",
       "    <tr>\n",
       "      <th>2019-07-08</th>\n",
       "      <td>46.450001</td>\n",
       "      <td>45.731998</td>\n",
       "      <td>46.248001</td>\n",
       "      <td>46.068001</td>\n",
       "      <td>29402500</td>\n",
       "      <td>46.068001</td>\n",
       "    </tr>\n",
       "    <tr>\n",
       "      <th>2019-07-09</th>\n",
       "      <td>46.200001</td>\n",
       "      <td>45.456001</td>\n",
       "      <td>45.793999</td>\n",
       "      <td>46.012001</td>\n",
       "      <td>30954000</td>\n",
       "      <td>46.012001</td>\n",
       "    </tr>\n",
       "    <tr>\n",
       "      <th>2019-07-10</th>\n",
       "      <td>47.787998</td>\n",
       "      <td>46.627998</td>\n",
       "      <td>46.830002</td>\n",
       "      <td>47.784000</td>\n",
       "      <td>45728500</td>\n",
       "      <td>47.784000</td>\n",
       "    </tr>\n",
       "    <tr>\n",
       "      <th>2019-07-11</th>\n",
       "      <td>48.299999</td>\n",
       "      <td>47.160000</td>\n",
       "      <td>47.627998</td>\n",
       "      <td>47.720001</td>\n",
       "      <td>37572000</td>\n",
       "      <td>47.720001</td>\n",
       "    </tr>\n",
       "    <tr>\n",
       "      <th>2019-07-12</th>\n",
       "      <td>49.076000</td>\n",
       "      <td>47.942001</td>\n",
       "      <td>47.950001</td>\n",
       "      <td>49.015999</td>\n",
       "      <td>46002500</td>\n",
       "      <td>49.015999</td>\n",
       "    </tr>\n",
       "    <tr>\n",
       "      <th>2019-07-15</th>\n",
       "      <td>50.883999</td>\n",
       "      <td>48.972000</td>\n",
       "      <td>49.599998</td>\n",
       "      <td>50.700001</td>\n",
       "      <td>55000500</td>\n",
       "      <td>50.700001</td>\n",
       "    </tr>\n",
       "    <tr>\n",
       "      <th>2019-07-16</th>\n",
       "      <td>50.706001</td>\n",
       "      <td>49.585999</td>\n",
       "      <td>49.860001</td>\n",
       "      <td>50.476002</td>\n",
       "      <td>40745000</td>\n",
       "      <td>50.476002</td>\n",
       "    </tr>\n",
       "    <tr>\n",
       "      <th>2019-07-17</th>\n",
       "      <td>51.661999</td>\n",
       "      <td>50.669998</td>\n",
       "      <td>51.133999</td>\n",
       "      <td>50.972000</td>\n",
       "      <td>48823500</td>\n",
       "      <td>50.972000</td>\n",
       "    </tr>\n",
       "    <tr>\n",
       "      <th>2019-07-18</th>\n",
       "      <td>51.150002</td>\n",
       "      <td>50.377998</td>\n",
       "      <td>51.009998</td>\n",
       "      <td>50.708000</td>\n",
       "      <td>23793000</td>\n",
       "      <td>50.708000</td>\n",
       "    </tr>\n",
       "    <tr>\n",
       "      <th>2019-07-19</th>\n",
       "      <td>51.992001</td>\n",
       "      <td>50.924000</td>\n",
       "      <td>51.138000</td>\n",
       "      <td>51.636002</td>\n",
       "      <td>35242000</td>\n",
       "      <td>51.636002</td>\n",
       "    </tr>\n",
       "    <tr>\n",
       "      <th>2019-07-22</th>\n",
       "      <td>52.430000</td>\n",
       "      <td>50.838001</td>\n",
       "      <td>51.750000</td>\n",
       "      <td>51.136002</td>\n",
       "      <td>34212000</td>\n",
       "      <td>51.136002</td>\n",
       "    </tr>\n",
       "    <tr>\n",
       "      <th>2019-07-23</th>\n",
       "      <td>52.096001</td>\n",
       "      <td>50.900002</td>\n",
       "      <td>51.341999</td>\n",
       "      <td>52.034000</td>\n",
       "      <td>25115500</td>\n",
       "      <td>52.034000</td>\n",
       "    </tr>\n",
       "    <tr>\n",
       "      <th>2019-07-24</th>\n",
       "      <td>53.214001</td>\n",
       "      <td>51.632000</td>\n",
       "      <td>51.834000</td>\n",
       "      <td>52.976002</td>\n",
       "      <td>55364000</td>\n",
       "      <td>52.976002</td>\n",
       "    </tr>\n",
       "    <tr>\n",
       "      <th>2019-07-25</th>\n",
       "      <td>46.900002</td>\n",
       "      <td>45.110001</td>\n",
       "      <td>46.700001</td>\n",
       "      <td>45.764000</td>\n",
       "      <td>112091500</td>\n",
       "      <td>45.764000</td>\n",
       "    </tr>\n",
       "    <tr>\n",
       "      <th>2019-07-26</th>\n",
       "      <td>46.051998</td>\n",
       "      <td>44.450001</td>\n",
       "      <td>45.383999</td>\n",
       "      <td>45.608002</td>\n",
       "      <td>50138500</td>\n",
       "      <td>45.608002</td>\n",
       "    </tr>\n",
       "    <tr>\n",
       "      <th>2019-07-29</th>\n",
       "      <td>47.188000</td>\n",
       "      <td>45.206001</td>\n",
       "      <td>45.417999</td>\n",
       "      <td>47.153999</td>\n",
       "      <td>46366500</td>\n",
       "      <td>47.153999</td>\n",
       "    </tr>\n",
       "    <tr>\n",
       "      <th>2019-07-30</th>\n",
       "      <td>48.672001</td>\n",
       "      <td>46.436001</td>\n",
       "      <td>46.580002</td>\n",
       "      <td>48.452000</td>\n",
       "      <td>40545000</td>\n",
       "      <td>48.452000</td>\n",
       "    </tr>\n",
       "    <tr>\n",
       "      <th>2019-07-31</th>\n",
       "      <td>49.335999</td>\n",
       "      <td>47.330002</td>\n",
       "      <td>48.599998</td>\n",
       "      <td>48.321999</td>\n",
       "      <td>45891000</td>\n",
       "      <td>48.321999</td>\n",
       "    </tr>\n",
       "  </tbody>\n",
       "</table>\n",
       "</div>"
      ],
      "text/plain": [
       "                 High        Low       Open      Close     Volume  Adj Close\n",
       "Date                                                                        \n",
       "2019-07-01  46.619999  45.256001  46.042000  45.433998   41067000  45.433998\n",
       "2019-07-02  45.830002  44.444000  45.778000  44.910000   46295000  44.910000\n",
       "2019-07-03  48.313999  46.902000  47.877998  46.980000   71005500  46.980000\n",
       "2019-07-05  47.090000  46.160000  46.914001  46.619999   35328500  46.619999\n",
       "2019-07-08  46.450001  45.731998  46.248001  46.068001   29402500  46.068001\n",
       "2019-07-09  46.200001  45.456001  45.793999  46.012001   30954000  46.012001\n",
       "2019-07-10  47.787998  46.627998  46.830002  47.784000   45728500  47.784000\n",
       "2019-07-11  48.299999  47.160000  47.627998  47.720001   37572000  47.720001\n",
       "2019-07-12  49.076000  47.942001  47.950001  49.015999   46002500  49.015999\n",
       "2019-07-15  50.883999  48.972000  49.599998  50.700001   55000500  50.700001\n",
       "2019-07-16  50.706001  49.585999  49.860001  50.476002   40745000  50.476002\n",
       "2019-07-17  51.661999  50.669998  51.133999  50.972000   48823500  50.972000\n",
       "2019-07-18  51.150002  50.377998  51.009998  50.708000   23793000  50.708000\n",
       "2019-07-19  51.992001  50.924000  51.138000  51.636002   35242000  51.636002\n",
       "2019-07-22  52.430000  50.838001  51.750000  51.136002   34212000  51.136002\n",
       "2019-07-23  52.096001  50.900002  51.341999  52.034000   25115500  52.034000\n",
       "2019-07-24  53.214001  51.632000  51.834000  52.976002   55364000  52.976002\n",
       "2019-07-25  46.900002  45.110001  46.700001  45.764000  112091500  45.764000\n",
       "2019-07-26  46.051998  44.450001  45.383999  45.608002   50138500  45.608002\n",
       "2019-07-29  47.188000  45.206001  45.417999  47.153999   46366500  47.153999\n",
       "2019-07-30  48.672001  46.436001  46.580002  48.452000   40545000  48.452000\n",
       "2019-07-31  49.335999  47.330002  48.599998  48.321999   45891000  48.321999"
      ]
     },
     "execution_count": 93,
     "metadata": {},
     "output_type": "execute_result"
    }
   ],
   "source": [
    "dadosTeslaJulho = yahooData[yahooData.index.month == 7 ]\n",
    "\n",
    "dadosTeslaJulho"
   ]
  },
  {
   "cell_type": "markdown",
   "metadata": {},
   "source": [
    "### Termos Importantes\n",
    "\n",
    "    1. Renda Fixa \n",
    "        - forma de aplicação na qual os valores dos ativos já estão estipulados\n",
    "        - menor risco \n",
    "    2. Renda variável\n",
    "        - os valores oscilam de acordo com variáveis externas(pandemia, politica, economia global)\n",
    "        - maior risco\n",
    "    3. Taxa de Retorno sobre o investimento\n",
    "      - Retorno Esperado - quanto a empresa irá ganhar com o dinheiro aplicado depois de um certo tempo, porém esse retorno é uma estimativa de alto risco quando se trata de renda variável, uma vez que você poderá ganhar mais ou menos dinheiro.\n",
    "      - Retorno sobre o investimento realizado - Retorno sobre um investimento especifico realizado\n",
    "\n",
    "    \n",
    "    "
   ]
  },
  {
   "cell_type": "code",
   "execution_count": 87,
   "metadata": {},
   "outputs": [],
   "source": [
    "#Extraindo, Lendo e manipulando dados de mais de uma empresa simultaneamente\n",
    "\n",
    "organizacoesTI = ['AMZN', 'TSLA', 'AAPL','GOGL','MSFT']\n",
    "\n",
    "#extraindo dados apenas o fechamento ajustado\n",
    "dadosYahooEmpresas = dt.get_data_yahoo(organizacoesTI, dataInicio, dataFim)['Adj Close']"
   ]
  },
  {
   "cell_type": "code",
   "execution_count": 95,
   "metadata": {},
   "outputs": [
    {
     "data": {
      "text/html": [
       "<div>\n",
       "<style scoped>\n",
       "    .dataframe tbody tr th:only-of-type {\n",
       "        vertical-align: middle;\n",
       "    }\n",
       "\n",
       "    .dataframe tbody tr th {\n",
       "        vertical-align: top;\n",
       "    }\n",
       "\n",
       "    .dataframe thead th {\n",
       "        text-align: right;\n",
       "    }\n",
       "</style>\n",
       "<table border=\"1\" class=\"dataframe\">\n",
       "  <thead>\n",
       "    <tr style=\"text-align: right;\">\n",
       "      <th>Symbols</th>\n",
       "      <th>AMZN</th>\n",
       "      <th>TSLA</th>\n",
       "      <th>AAPL</th>\n",
       "      <th>GOGL</th>\n",
       "      <th>MSFT</th>\n",
       "    </tr>\n",
       "    <tr>\n",
       "      <th>Date</th>\n",
       "      <th></th>\n",
       "      <th></th>\n",
       "      <th></th>\n",
       "      <th></th>\n",
       "      <th></th>\n",
       "    </tr>\n",
       "  </thead>\n",
       "  <tbody>\n",
       "    <tr>\n",
       "      <th>2019-01-02</th>\n",
       "      <td>1539.130005</td>\n",
       "      <td>62.023998</td>\n",
       "      <td>38.629097</td>\n",
       "      <td>5.813100</td>\n",
       "      <td>98.860214</td>\n",
       "    </tr>\n",
       "    <tr>\n",
       "      <th>2019-01-03</th>\n",
       "      <td>1500.280029</td>\n",
       "      <td>60.071999</td>\n",
       "      <td>34.781353</td>\n",
       "      <td>5.561168</td>\n",
       "      <td>95.223351</td>\n",
       "    </tr>\n",
       "    <tr>\n",
       "      <th>2019-01-04</th>\n",
       "      <td>1575.390015</td>\n",
       "      <td>63.537998</td>\n",
       "      <td>36.266144</td>\n",
       "      <td>6.055701</td>\n",
       "      <td>99.652115</td>\n",
       "    </tr>\n",
       "    <tr>\n",
       "      <th>2019-01-07</th>\n",
       "      <td>1629.510010</td>\n",
       "      <td>66.991997</td>\n",
       "      <td>36.185429</td>\n",
       "      <td>6.307634</td>\n",
       "      <td>99.779205</td>\n",
       "    </tr>\n",
       "    <tr>\n",
       "      <th>2019-01-08</th>\n",
       "      <td>1656.579956</td>\n",
       "      <td>67.070000</td>\n",
       "      <td>36.875229</td>\n",
       "      <td>6.531574</td>\n",
       "      <td>100.502670</td>\n",
       "    </tr>\n",
       "    <tr>\n",
       "      <th>...</th>\n",
       "      <td>...</td>\n",
       "      <td>...</td>\n",
       "      <td>...</td>\n",
       "      <td>...</td>\n",
       "      <td>...</td>\n",
       "    </tr>\n",
       "    <tr>\n",
       "      <th>2019-12-24</th>\n",
       "      <td>1789.209961</td>\n",
       "      <td>85.050003</td>\n",
       "      <td>70.580566</td>\n",
       "      <td>5.817995</td>\n",
       "      <td>156.137955</td>\n",
       "    </tr>\n",
       "    <tr>\n",
       "      <th>2019-12-26</th>\n",
       "      <td>1868.770020</td>\n",
       "      <td>86.188004</td>\n",
       "      <td>71.980911</td>\n",
       "      <td>5.827873</td>\n",
       "      <td>157.417786</td>\n",
       "    </tr>\n",
       "    <tr>\n",
       "      <th>2019-12-27</th>\n",
       "      <td>1869.800049</td>\n",
       "      <td>86.075996</td>\n",
       "      <td>71.953598</td>\n",
       "      <td>5.729095</td>\n",
       "      <td>157.705505</td>\n",
       "    </tr>\n",
       "    <tr>\n",
       "      <th>2019-12-30</th>\n",
       "      <td>1846.890015</td>\n",
       "      <td>82.940002</td>\n",
       "      <td>72.380653</td>\n",
       "      <td>5.758729</td>\n",
       "      <td>156.346298</td>\n",
       "    </tr>\n",
       "    <tr>\n",
       "      <th>2019-12-31</th>\n",
       "      <td>1847.839966</td>\n",
       "      <td>83.666000</td>\n",
       "      <td>72.909500</td>\n",
       "      <td>5.738973</td>\n",
       "      <td>156.455429</td>\n",
       "    </tr>\n",
       "  </tbody>\n",
       "</table>\n",
       "<p>252 rows × 5 columns</p>\n",
       "</div>"
      ],
      "text/plain": [
       "Symbols            AMZN       TSLA       AAPL      GOGL        MSFT\n",
       "Date                                                               \n",
       "2019-01-02  1539.130005  62.023998  38.629097  5.813100   98.860214\n",
       "2019-01-03  1500.280029  60.071999  34.781353  5.561168   95.223351\n",
       "2019-01-04  1575.390015  63.537998  36.266144  6.055701   99.652115\n",
       "2019-01-07  1629.510010  66.991997  36.185429  6.307634   99.779205\n",
       "2019-01-08  1656.579956  67.070000  36.875229  6.531574  100.502670\n",
       "...                 ...        ...        ...       ...         ...\n",
       "2019-12-24  1789.209961  85.050003  70.580566  5.817995  156.137955\n",
       "2019-12-26  1868.770020  86.188004  71.980911  5.827873  157.417786\n",
       "2019-12-27  1869.800049  86.075996  71.953598  5.729095  157.705505\n",
       "2019-12-30  1846.890015  82.940002  72.380653  5.758729  156.346298\n",
       "2019-12-31  1847.839966  83.666000  72.909500  5.738973  156.455429\n",
       "\n",
       "[252 rows x 5 columns]"
      ]
     },
     "execution_count": 95,
     "metadata": {},
     "output_type": "execute_result"
    }
   ],
   "source": [
    "dadosYahooEmpresas"
   ]
  },
  {
   "cell_type": "code",
   "execution_count": 96,
   "metadata": {},
   "outputs": [
    {
     "data": {
      "text/plain": [
       "<matplotlib.axes._subplots.AxesSubplot at 0x7fa77083a250>"
      ]
     },
     "execution_count": 96,
     "metadata": {},
     "output_type": "execute_result"
    },
    {
     "data": {
      "image/png": "[encoded data removed]",
      "text/plain": [
       "<Figure size 1152x576 with 1 Axes>"
      ]
     },
     "metadata": {
      "needs_background": "light"
     },
     "output_type": "display_data"
    }
   ],
   "source": [
    "dadosYahooEmpresas.plot(figsize=(16,8))"
   ]
  },
  {
   "cell_type": "code",
   "execution_count": 97,
   "metadata": {
    "scrolled": true
   },
   "outputs": [
    {
     "data": {
      "text/plain": [
       "<matplotlib.axes._subplots.AxesSubplot at 0x7fa770bde550>"
      ]
     },
     "execution_count": 97,
     "metadata": {},
     "output_type": "execute_result"
    },
    {
     "data": {
      "image/png": "[encoded data removed]",
      "text/plain": [
       "<Figure size 1152x576 with 1 Axes>"
      ]
     },
     "metadata": {
      "needs_background": "light"
     },
     "output_type": "display_data"
    }
   ],
   "source": [
    "(dadosYahooEmpresas/ dadosYahooEmpresas.iloc[0]).plot(figsize=(16,8)) # normalização estatística dos dados\n",
    "                                                                      # Aproximar os dados da distribuição normal\n",
    "                                                                      # Normalizar facilita a comparação"
   ]
  },
  {
   "cell_type": "code",
   "execution_count": 98,
   "metadata": {},
   "outputs": [],
   "source": [
    "rentabilidadeAcoes = (dadosYahooEmpresas.pct_change()*100).mean() *250 #rentabilidade anual"
   ]
  },
  {
   "cell_type": "code",
   "execution_count": 99,
   "metadata": {},
   "outputs": [
    {
     "data": {
      "text/plain": [
       "Symbols\n",
       "AMZN    20.789339\n",
       "TSLA    41.693871\n",
       "AAPL    66.766638\n",
       "GOGL     9.349971\n",
       "MSFT    47.713662\n",
       "dtype: float64"
      ]
     },
     "execution_count": 99,
     "metadata": {},
     "output_type": "execute_result"
    }
   ],
   "source": [
    "rentabilidadeAcoes"
   ]
  },
  {
   "cell_type": "code",
   "execution_count": 100,
   "metadata": {},
   "outputs": [],
   "source": [
    "pesoAcoes = np.array([0.25,0.10,0.05,0.30,0.30])"
   ]
  },
  {
   "cell_type": "code",
   "execution_count": 101,
   "metadata": {},
   "outputs": [
    {
     "data": {
      "text/plain": [
       "array([0.25, 0.1 , 0.05, 0.3 , 0.3 ])"
      ]
     },
     "execution_count": 101,
     "metadata": {},
     "output_type": "execute_result"
    }
   ],
   "source": [
    "pesoAcoes"
   ]
  },
  {
   "cell_type": "code",
   "execution_count": 102,
   "metadata": {},
   "outputs": [],
   "source": [
    "rentabilidade=np.dot(rentabilidadeAcoes,pesoAcoes)"
   ]
  },
  {
   "cell_type": "code",
   "execution_count": 103,
   "metadata": {},
   "outputs": [
    {
     "data": {
      "text/plain": [
       "29.824143627945347"
      ]
     },
     "execution_count": 103,
     "metadata": {},
     "output_type": "execute_result"
    }
   ],
   "source": [
    "rentabilidade #rentabilidade desse período"
   ]
  },
  {
   "cell_type": "code",
   "execution_count": 42,
   "metadata": {},
   "outputs": [
    {
     "name": "stdout",
     "output_type": "stream",
     "text": [
      "<class 'pandas.core.frame.DataFrame'>\n",
      "DatetimeIndex: 252 entries, 2019-01-02 to 2019-12-31\n",
      "Data columns (total 5 columns):\n",
      " #   Column  Non-Null Count  Dtype  \n",
      "---  ------  --------------  -----  \n",
      " 0   AMZN    252 non-null    float64\n",
      " 1   TSLA    252 non-null    float64\n",
      " 2   AAPL    252 non-null    float64\n",
      " 3   GOGL    252 non-null    float64\n",
      " 4   MSFT    252 non-null    float64\n",
      "dtypes: float64(5)\n",
      "memory usage: 11.8 KB\n"
     ]
    }
   ],
   "source": [
    "dadosYahooEmpresas.info()#ativos tem a mesma quantidade de dados"
   ]
  },
  {
   "cell_type": "code",
   "execution_count": 43,
   "metadata": {},
   "outputs": [
    {
     "data": {
      "text/html": [
       "<div>\n",
       "<style scoped>\n",
       "    .dataframe tbody tr th:only-of-type {\n",
       "        vertical-align: middle;\n",
       "    }\n",
       "\n",
       "    .dataframe tbody tr th {\n",
       "        vertical-align: top;\n",
       "    }\n",
       "\n",
       "    .dataframe thead th {\n",
       "        text-align: right;\n",
       "    }\n",
       "</style>\n",
       "<table border=\"1\" class=\"dataframe\">\n",
       "  <thead>\n",
       "    <tr style=\"text-align: right;\">\n",
       "      <th>Symbols</th>\n",
       "      <th>AMZN</th>\n",
       "      <th>TSLA</th>\n",
       "      <th>AAPL</th>\n",
       "      <th>GOGL</th>\n",
       "      <th>MSFT</th>\n",
       "    </tr>\n",
       "    <tr>\n",
       "      <th>Date</th>\n",
       "      <th></th>\n",
       "      <th></th>\n",
       "      <th></th>\n",
       "      <th></th>\n",
       "      <th></th>\n",
       "    </tr>\n",
       "  </thead>\n",
       "  <tbody>\n",
       "    <tr>\n",
       "      <th>2019-01-02</th>\n",
       "      <td>NaN</td>\n",
       "      <td>NaN</td>\n",
       "      <td>NaN</td>\n",
       "      <td>NaN</td>\n",
       "      <td>NaN</td>\n",
       "    </tr>\n",
       "    <tr>\n",
       "      <th>2019-01-03</th>\n",
       "      <td>-2.524152</td>\n",
       "      <td>-3.147168</td>\n",
       "      <td>-9.960740</td>\n",
       "      <td>-4.333869</td>\n",
       "      <td>-3.678794</td>\n",
       "    </tr>\n",
       "    <tr>\n",
       "      <th>2019-01-04</th>\n",
       "      <td>5.006398</td>\n",
       "      <td>5.769742</td>\n",
       "      <td>4.268928</td>\n",
       "      <td>8.892611</td>\n",
       "      <td>4.650923</td>\n",
       "    </tr>\n",
       "    <tr>\n",
       "      <th>2019-01-07</th>\n",
       "      <td>3.435339</td>\n",
       "      <td>5.436115</td>\n",
       "      <td>-0.222563</td>\n",
       "      <td>4.160263</td>\n",
       "      <td>0.127534</td>\n",
       "    </tr>\n",
       "    <tr>\n",
       "      <th>2019-01-08</th>\n",
       "      <td>1.661232</td>\n",
       "      <td>0.116436</td>\n",
       "      <td>1.906293</td>\n",
       "      <td>3.550299</td>\n",
       "      <td>0.725066</td>\n",
       "    </tr>\n",
       "    <tr>\n",
       "      <th>...</th>\n",
       "      <td>...</td>\n",
       "      <td>...</td>\n",
       "      <td>...</td>\n",
       "      <td>...</td>\n",
       "      <td>...</td>\n",
       "    </tr>\n",
       "    <tr>\n",
       "      <th>2019-12-24</th>\n",
       "      <td>-0.211380</td>\n",
       "      <td>1.438387</td>\n",
       "      <td>0.095062</td>\n",
       "      <td>0.856158</td>\n",
       "      <td>-0.019073</td>\n",
       "    </tr>\n",
       "    <tr>\n",
       "      <th>2019-12-26</th>\n",
       "      <td>4.446659</td>\n",
       "      <td>1.338037</td>\n",
       "      <td>1.984037</td>\n",
       "      <td>0.169786</td>\n",
       "      <td>0.819680</td>\n",
       "    </tr>\n",
       "    <tr>\n",
       "      <th>2019-12-27</th>\n",
       "      <td>0.055118</td>\n",
       "      <td>-0.129957</td>\n",
       "      <td>-0.037945</td>\n",
       "      <td>-1.694920</td>\n",
       "      <td>0.182775</td>\n",
       "    </tr>\n",
       "    <tr>\n",
       "      <th>2019-12-30</th>\n",
       "      <td>-1.225267</td>\n",
       "      <td>-3.643285</td>\n",
       "      <td>0.593515</td>\n",
       "      <td>0.517238</td>\n",
       "      <td>-0.861864</td>\n",
       "    </tr>\n",
       "    <tr>\n",
       "      <th>2019-12-31</th>\n",
       "      <td>0.051435</td>\n",
       "      <td>0.875329</td>\n",
       "      <td>0.730647</td>\n",
       "      <td>-0.343051</td>\n",
       "      <td>0.069801</td>\n",
       "    </tr>\n",
       "  </tbody>\n",
       "</table>\n",
       "<p>252 rows × 5 columns</p>\n",
       "</div>"
      ],
      "text/plain": [
       "Symbols         AMZN      TSLA      AAPL      GOGL      MSFT\n",
       "Date                                                        \n",
       "2019-01-02       NaN       NaN       NaN       NaN       NaN\n",
       "2019-01-03 -2.524152 -3.147168 -9.960740 -4.333869 -3.678794\n",
       "2019-01-04  5.006398  5.769742  4.268928  8.892611  4.650923\n",
       "2019-01-07  3.435339  5.436115 -0.222563  4.160263  0.127534\n",
       "2019-01-08  1.661232  0.116436  1.906293  3.550299  0.725066\n",
       "...              ...       ...       ...       ...       ...\n",
       "2019-12-24 -0.211380  1.438387  0.095062  0.856158 -0.019073\n",
       "2019-12-26  4.446659  1.338037  1.984037  0.169786  0.819680\n",
       "2019-12-27  0.055118 -0.129957 -0.037945 -1.694920  0.182775\n",
       "2019-12-30 -1.225267 -3.643285  0.593515  0.517238 -0.861864\n",
       "2019-12-31  0.051435  0.875329  0.730647 -0.343051  0.069801\n",
       "\n",
       "[252 rows x 5 columns]"
      ]
     },
     "execution_count": 43,
     "metadata": {},
     "output_type": "execute_result"
    }
   ],
   "source": [
    "retornoDadosEmpresas = dadosYahooEmpresas.pct_change() * 100\n",
    "retornoDadosEmpresas"
   ]
  },
  {
   "cell_type": "code",
   "execution_count": 46,
   "metadata": {},
   "outputs": [
    {
     "data": {
      "text/plain": [
       "23.339323607350586"
      ]
     },
     "execution_count": 46,
     "metadata": {},
     "output_type": "execute_result"
    }
   ],
   "source": [
    "risco = (np.dot(pesoAcoes.T, np.dot(retornoDadosEmpresas.cov()*250, pesoAcoes)))**.5\n",
    "risco"
   ]
  },
  {
   "cell_type": "markdown",
   "metadata": {},
   "source": [
    "## Outras Bibliotecas\n",
    "\n",
    "    1. Statistics\n",
    "    2. Numpy\n",
    "    3. Pandas\n",
    "    4. Matplotlib\n",
    "    5. Scipy\n",
    "    6. Math\n",
    "    "
   ]
  },
  {
   "cell_type": "markdown",
   "metadata": {},
   "source": [
    "## Plus Plus"
   ]
  },
  {
   "cell_type": "code",
   "execution_count": 104,
   "metadata": {},
   "outputs": [
    {
     "data": {
      "text/html": [
       "<div>\n",
       "<style scoped>\n",
       "    .dataframe tbody tr th:only-of-type {\n",
       "        vertical-align: middle;\n",
       "    }\n",
       "\n",
       "    .dataframe tbody tr th {\n",
       "        vertical-align: top;\n",
       "    }\n",
       "\n",
       "    .dataframe thead th {\n",
       "        text-align: right;\n",
       "    }\n",
       "</style>\n",
       "<table border=\"1\" class=\"dataframe\">\n",
       "  <thead>\n",
       "    <tr style=\"text-align: right;\">\n",
       "      <th>Symbols</th>\n",
       "      <th>AMZN</th>\n",
       "      <th>TSLA</th>\n",
       "      <th>AAPL</th>\n",
       "      <th>GOGL</th>\n",
       "      <th>MSFT</th>\n",
       "    </tr>\n",
       "  </thead>\n",
       "  <tbody>\n",
       "    <tr>\n",
       "      <th>count</th>\n",
       "      <td>252.000000</td>\n",
       "      <td>252.000000</td>\n",
       "      <td>252.000000</td>\n",
       "      <td>252.000000</td>\n",
       "      <td>252.000000</td>\n",
       "    </tr>\n",
       "    <tr>\n",
       "      <th>mean</th>\n",
       "      <td>1789.189206</td>\n",
       "      <td>54.706040</td>\n",
       "      <td>51.399533</td>\n",
       "      <td>5.363444</td>\n",
       "      <td>128.516596</td>\n",
       "    </tr>\n",
       "    <tr>\n",
       "      <th>std</th>\n",
       "      <td>101.313650</td>\n",
       "      <td>10.606053</td>\n",
       "      <td>8.737506</td>\n",
       "      <td>0.542263</td>\n",
       "      <td>15.199077</td>\n",
       "    </tr>\n",
       "    <tr>\n",
       "      <th>min</th>\n",
       "      <td>1500.280029</td>\n",
       "      <td>35.793999</td>\n",
       "      <td>34.781353</td>\n",
       "      <td>4.108437</td>\n",
       "      <td>95.223351</td>\n",
       "    </tr>\n",
       "    <tr>\n",
       "      <th>25%</th>\n",
       "      <td>1735.845032</td>\n",
       "      <td>46.444001</td>\n",
       "      <td>45.780482</td>\n",
       "      <td>4.954665</td>\n",
       "      <td>117.171322</td>\n",
       "    </tr>\n",
       "    <tr>\n",
       "      <th>50%</th>\n",
       "      <td>1786.450012</td>\n",
       "      <td>52.059000</td>\n",
       "      <td>50.099180</td>\n",
       "      <td>5.357755</td>\n",
       "      <td>133.254166</td>\n",
       "    </tr>\n",
       "    <tr>\n",
       "      <th>75%</th>\n",
       "      <td>1855.319946</td>\n",
       "      <td>62.382000</td>\n",
       "      <td>55.371859</td>\n",
       "      <td>5.779221</td>\n",
       "      <td>137.544125</td>\n",
       "    </tr>\n",
       "    <tr>\n",
       "      <th>max</th>\n",
       "      <td>2020.989990</td>\n",
       "      <td>86.188004</td>\n",
       "      <td>72.909500</td>\n",
       "      <td>6.540905</td>\n",
       "      <td>157.705505</td>\n",
       "    </tr>\n",
       "  </tbody>\n",
       "</table>\n",
       "</div>"
      ],
      "text/plain": [
       "Symbols         AMZN        TSLA        AAPL        GOGL        MSFT\n",
       "count     252.000000  252.000000  252.000000  252.000000  252.000000\n",
       "mean     1789.189206   54.706040   51.399533    5.363444  128.516596\n",
       "std       101.313650   10.606053    8.737506    0.542263   15.199077\n",
       "min      1500.280029   35.793999   34.781353    4.108437   95.223351\n",
       "25%      1735.845032   46.444001   45.780482    4.954665  117.171322\n",
       "50%      1786.450012   52.059000   50.099180    5.357755  133.254166\n",
       "75%      1855.319946   62.382000   55.371859    5.779221  137.544125\n",
       "max      2020.989990   86.188004   72.909500    6.540905  157.705505"
      ]
     },
     "execution_count": 104,
     "metadata": {},
     "output_type": "execute_result"
    }
   ],
   "source": [
    "dadosYahooEmpresas.describe() #Informações gerais do DataFrame"
   ]
  },
  {
   "cell_type": "code",
   "execution_count": 105,
   "metadata": {},
   "outputs": [
    {
     "data": {
      "text/plain": [
       "pandas.core.frame.DataFrame"
      ]
     },
     "execution_count": 105,
     "metadata": {},
     "output_type": "execute_result"
    }
   ],
   "source": [
    "type(dadosYahooEmpresas)#verificando o tipo de dados"
   ]
  },
  {
   "cell_type": "code",
   "execution_count": 106,
   "metadata": {},
   "outputs": [
    {
     "name": "stdout",
     "output_type": "stream",
     "text": [
      "<class 'pandas.core.frame.DataFrame'>\n",
      "DatetimeIndex: 252 entries, 2019-01-02 to 2019-12-31\n",
      "Data columns (total 5 columns):\n",
      " #   Column  Non-Null Count  Dtype  \n",
      "---  ------  --------------  -----  \n",
      " 0   AMZN    252 non-null    float64\n",
      " 1   TSLA    252 non-null    float64\n",
      " 2   AAPL    252 non-null    float64\n",
      " 3   GOGL    252 non-null    float64\n",
      " 4   MSFT    252 non-null    float64\n",
      "dtypes: float64(5)\n",
      "memory usage: 11.8 KB\n"
     ]
    }
   ],
   "source": [
    "dadosYahooEmpresas.info()#Detalhes dos dados dentro da base"
   ]
  },
  {
   "cell_type": "code",
   "execution_count": 107,
   "metadata": {},
   "outputs": [
    {
     "data": {
      "text/plain": [
       "'AMZN,TSLA,AAPL,GOGL,MSFT\\n1539.1300048828125,62.02399826049805,38.62909698486328,5.813100337982178,98.86021423339844\\n1500.280029296875,60.071998596191406,34.78135299682617,5.561168193817139,95.22335052490234\\n1575.3900146484375,63.53799819946289,36.266143798828125,6.05570125579834,99.65211486816406\\n1629.510009765625,66.99199676513672,36.185428619384766,6.307634353637695,99.77920532226562\\n1656.5799560546875,67.06999969482422,36.87522888183594,6.531574249267578,100.50267028808594\\n1659.4200439453125,67.70600128173828,37.501434326171875,6.540904998779297,101.93981170654297\\n1656.219970703125,68.99400329589844,37.621299743652344,6.316964149475098,101.28479766845703\\n1640.56005859375,69.4520034790039,37.251930236816406,6.1583404541015625,100.50267028808594\\n1617.2099609375,66.87999725341797,36.6917724609375,6.018378257751465,99.7694320678711\\n1674.56005859375,68.88600158691406,37.44273376464844,5.915740013122559,102.66329193115234\\n1683.780029296875,69.20999908447266,37.9001579284668,5.962393283843994,103.02500915527344\\n1693.219970703125,69.46199798583984,38.12519454956055,6.037039756774902,103.74847412109375\\n1696.199951171875,60.45199966430664,38.360023498535156,6.260979175567627,105.30294036865234\\n1632.1700439453125,59.784000396728516,37.49898910522461,5.710461616516113,103.31830596923828\\n1640.02001953125,57.518001556396484,37.65065002441406,5.747784614562988,104.32527923583984\\n1654.9300537109375,58.301998138427734,37.35221862792969,5.486521244049072,103.8266830444336\\n1670.5699462890625,59.40800094604492,38.589962005615234,5.561168193817139,104.77500915527344\\n1637.8900146484375,59.2760009765625,38.232826232910156,5.00131893157959,102.73171997070312\\n1593.8800048828125,59.492000579833984,37.836551666259766,5.075965404510498,100.6395492553711\\n1670.4300537109375,61.75400161743164,40.42210388183594,4.777379512786865,104.00267028808594\\n1718.72998046875,61.40399932861328,40.71318435668945,4.7307257652282715,102.09624481201172\\n1626.22998046875,62.44200134277344,40.732757568359375,4.954665184020996,100.48311614990234\\n1633.31005859375,62.577999114990234,41.8897705078125,4.833364963531494,103.37696838378906\\n1658.81005859375,64.2699966430664,42.606483459472656,4.852025508880615,104.82389068603516\\n1640.260009765625,63.444000244140625,42.62116241455078,4.7680487632751465,103.66048431396484\\n1614.3699951171875,61.50199890136719,41.813941955566406,4.777379512786865,102.91747283935547\\n1588.219970703125,61.15999984741211,41.86307907104492,4.80537223815918,103.30853271484375\\n1591.0,62.56800079345703,41.62232208251953,4.786710739135742,102.89791107177734\\n1638.010009765625,62.36199951171875,41.98099136352539,4.9826579093933105,104.50127410888672\\n1640.0,61.63399887084961,41.80656814575195,5.00131893157959,104.42304992675781\\n1622.6500244140625,60.75400161743164,41.958885192871094,5.029311180114746,104.51103973388672\\n1607.949951171875,61.57600021362305,41.86553192138672,5.019980430603027,105.80154418945312\\n1627.5799560546875,61.12799835205078,41.990814208984375,4.889349937438965,105.7526626586914\\n1622.0999755859375,60.512001037597656,42.261043548583984,4.991988658905029,105.20284271240234\\n1619.43994140625,58.24599838256836,42.02275466918945,4.908011436462402,107.4217758178711\\n1631.56005859375,58.94200134277344,42.49196243286133,4.954665184020996,108.95341491699219\\n1633.0,59.75400161743164,42.80149459838867,4.954665184020996,109.5621566772461\\n1636.4000244140625,59.571998596191406,42.8260612487793,4.963995933532715,110.31816101074219\\n1641.0899658203125,62.948001861572266,42.95872116088867,4.824033737182617,110.13160705566406\\n1639.8299560546875,63.97600173950195,42.53618240356445,4.665409564971924,109.99415588378906\\n1671.72998046875,58.95800018310547,42.983280181884766,4.553440093994141,110.48507690429688\\n1696.1700439453125,57.071998596191406,43.19947052001953,4.618754863739014,110.219970703125\\n1692.4300537109375,55.30799865722656,43.120853424072266,4.7680487632751465,109.6701431274414\\n1668.949951171875,55.24800109863281,42.87274169921875,4.673818588256836,109.71924591064453\\n1625.949951171875,55.31800079345703,42.37650680541992,4.513626575469971,108.38395690917969\\n1620.800048828125,56.827999114990234,42.47722625732422,4.409974575042725,108.50177764892578\\n1670.6199951171875,58.183998107910156,43.94873046875,4.4382429122924805,110.77962493896484\\n1673.0999755859375,56.672000885009766,44.44251251220703,4.607857704162598,111.55526733398438\\n1690.81005859375,57.79199981689453,44.6390380859375,4.6361260414123535,112.41926574707031\\n1686.219970703125,57.992000579833984,45.13527297973633,4.824586868286133,112.50763702392578\\n1712.3599853515625,55.08599853515625,45.7224006652832,4.7680487632751465,113.80365753173828\\n1742.1500244140625,53.89799880981445,46.18916320800781,4.570165157318115,115.4334716796875\\n1761.8499755859375,53.49399948120117,45.82312774658203,4.730356693267822,115.51203155517578\\n1797.27001953125,54.720001220703125,46.22355651855469,5.013047218322754,115.38439178466797\\n1819.260009765625,54.80400085449219,47.92597961425781,4.9282402992248535,118.03533935546875\\n1764.77001953125,52.90599822998047,46.93351364135742,4.824586868286133,114.92293548583984\\n1774.260009765625,52.08399963378906,46.366031646728516,4.5984344482421875,115.52185821533203\\n1783.760009765625,53.55400085449219,45.88699722290039,4.6361260414123535,115.76730346679688\\n1765.699951171875,54.965999603271484,46.29970932006836,4.579588413238525,114.64801025390625\\n1773.4200439453125,55.7239990234375,46.361122131347656,4.560742378234863,114.80510711669922\\n1780.75,55.97200012207031,46.66328811645508,4.494781494140625,115.79676818847656\\n1814.18994140625,57.83599853515625,46.980194091796875,4.645549774169922,116.85713195800781\\n1813.97998046875,57.17599868774414,47.66312789916992,4.664394855499268,117.02404022216797\\n1820.699951171875,58.36199951171875,47.98986053466797,4.834010124206543,117.78987884521484\\n1818.8599853515625,53.555999755859375,48.0733757019043,4.834010124206543,117.19096374511719\\n1837.280029296875,54.992000579833984,48.39519119262695,4.843432426452637,117.7113265991211\\n1849.8599853515625,54.63999938964844,49.156742095947266,4.99420166015625,117.75059509277344\\n1835.8399658203125,54.46200180053711,49.00934600830078,4.956509590148926,117.11239624023438\\n1847.3299560546875,55.21200180053711,49.28448486328125,5.192084789276123,118.00587463378906\\n1844.0699462890625,53.683998107910156,48.87423324584961,5.220353603363037,118.14332580566406\\n1843.06005859375,53.540000915527344,48.85457992553711,5.154392719268799,118.75205993652344\\n1844.8699951171875,53.2760009765625,48.943016052246094,5.1355462074279785,118.8502426147461\\n1863.0400390625,54.672000885009766,48.947933197021484,5.2297773361206055,118.57532501220703\\n1864.8199462890625,54.24599838256836,49.90109634399414,5.248622894287109,119.55715942382812\\n1861.68994140625,54.652000427246094,50.0804328918457,5.305160999298096,121.12808227539062\\n1887.31005859375,52.54999923706055,50.245025634765625,5.2297773361206055,121.51099395751953\\n1923.77001953125,52.779998779296875,50.96971893310547,5.276892185211182,123.16046905517578\\n1901.75,51.731998443603516,50.891109466552734,5.182662010192871,122.73828125\\n1902.25,49.5260009765625,50.42927169799805,5.088431358337402,126.80305480957031\\n1950.6300048828125,47.02799987792969,50.18852233886719,5.26746940612793,127.52959442138672\\n1938.4300537109375,48.29399871826172,50.264678955078125,5.484198570251465,127.41178131103516\\n1926.52001953125,47.737998962402344,49.29677200317383,5.6161208152771,128.22669982910156\\n1911.52001953125,46.801998138427734,51.71653366088867,5.71035099029541,125.55612182617188\\n1900.8199462890625,48.81999969482422,51.379974365234375,5.408814430236816,123.91647338867188\\n1962.4599609375,51.00600051879883,52.01869583129883,5.484198570251465,126.5575942993164\\n1950.550048828125,51.06800079345703,51.21538543701172,5.239200115203857,125.82120513916016\\n1921.0,49.4119987487793,49.834774017333984,5.041316509246826,123.23900604248047\\n1917.77001953125,48.96799850463867,49.8445930480957,5.239200115203857,123.22920227050781\\n1899.8699951171875,48.395999908447266,49.309051513671875,5.031893730163574,123.21937561035156\\n1889.97998046875,47.90399932861328,48.625953674316406,5.154392719268799,124.81975555419922\\n1822.6800537109375,45.402000427246094,45.799842834472656,4.786895275115967,121.10844421386719\\n1840.1199951171875,46.46200180053711,46.524864196777344,4.918816566467285,122.46337127685547\\n1871.1500244140625,46.38999938964844,47.08219528198242,4.98477840423584,124.18792724609375\\n1907.5699462890625,45.66600036621094,46.87504959106445,5.003624439239502,127.05561828613281\\n1869.0,42.20600128173828,46.60871505737305,4.899970531463623,126.20813751220703\\n1858.969970703125,41.071998596191406,45.15126419067383,4.918816566467285,124.3850326538086\\n1857.52001953125,41.01599884033203,46.0168571472168,4.909394264221191,125.05514526367188\\n1859.6800537109375,38.54600143432617,45.07481384277344,5.060162544250488,125.8139419555664\\n1815.47998046875,39.097999572753906,44.30540084838867,4.843432426452637,124.34561157226562\\n1823.280029296875,38.125999450683594,44.13524627685547,4.777472019195557,124.40472412109375\\n1836.4300537109375,37.7400016784668,43.952754974365234,4.702087879180908,124.3259048461914\\n1819.18994140625,37.97200012207031,43.74313735961914,4.589011192321777,123.1236343383789\\n1816.3199462890625,37.64400100708008,43.97002029418945,4.475935459136963,123.90214538574219\\n1775.0699462890625,37.03200149536133,43.17347717285156,4.296897888183594,121.88195037841797\\n1692.68994140625,35.79399871826172,42.736976623535156,4.1084370613098145,118.09777069091797\\n1729.56005859375,38.720001220703125,44.30046844482422,4.457088947296143,121.36951446533203\\n1738.5,39.31800079345703,45.015621185302734,4.4902448654174805,124.00069427490234\\n1754.3599853515625,41.189998626708984,45.676536560058594,4.395514011383057,125.96176147460938\\n1804.030029296875,40.900001525878906,46.892303466796875,4.528137683868408,129.4897003173828\\n1860.6300048828125,42.57600021362305,47.49156188964844,4.452352523803711,130.6722869873047\\n1863.699951171875,43.41999816894531,48.0414924621582,4.566030025482178,130.17955017089844\\n1855.3199462890625,41.85200119018555,47.88860321044922,4.2439446449279785,129.5784149169922\\n1870.300048828125,42.78200149536133,47.87873077392578,4.480772018432617,130.39633178710938\\n1869.6700439453125,42.98400115966797,47.53102111816406,4.404987335205078,130.5244598388672\\n1886.030029296875,45.00600051879883,47.81462097167969,4.4902448654174805,130.9186553955078\\n1901.3699951171875,44.948001861572266,48.939144134521484,4.603922367095947,133.19505310058594\\n1908.7900390625,45.2859992980957,48.79611587524414,4.793384075164795,133.7173614501953\\n1918.18994140625,43.92399978637695,49.18821716308594,5.011265277862549,134.95901489257812\\n1911.300048828125,44.37200164794922,49.02052307128906,5.124942302703857,134.978759765625\\n1913.9000244140625,44.72800064086914,48.9712028503418,5.020738124847412,135.77696228027344\\n1878.27001953125,43.95199966430664,48.228919982910156,4.973372459411621,131.4901885986328\\n1897.8299560546875,43.854000091552734,49.27206802368164,5.134415626525879,131.98292541503906\\n1904.280029296875,44.56800079345703,49.25727081298828,5.390188694000244,132.19972229003906\\n1893.6300048828125,44.69200134277344,48.808441162109375,5.503865718841553,132.0124969482422\\n1922.18994140625,45.433998107910156,49.70363235473633,5.854369640350342,133.70748901367188\\n1934.31005859375,44.90999984741211,49.99462127685547,5.8922624588012695,134.59439086914062\\n1939.0,46.97999954223633,50.40892028808594,5.911208152770996,135.46160888671875\\n1942.9100341796875,46.619998931884766,50.36452865600586,6.034358978271484,135.0674285888672\\n1952.3199462890625,46.06800079345703,49.326316833496094,6.005939483642578,134.96888732910156\\n1988.300048828125,46.012001037597656,49.62718200683594,6.043832302093506,134.47616577148438\\n2017.4100341796875,47.784000396728516,50.11792755126953,6.12908935546875,135.84596252441406\\n2001.0699462890625,47.720001220703125,49.75294876098633,6.1575093269348145,136.387939453125\\n2011.0,49.01599884033203,50.13519287109375,6.1575093269348145,136.88067626953125\\n2020.989990234375,50.70000076293945,50.60620880126953,6.110143661499023,136.88067626953125\\n2009.9000244140625,50.47600173950195,50.43111801147461,6.261713027954102,135.08712768554688\\n1992.030029296875,50.97200012207031,50.147518157958984,6.204874515533447,134.28892517089844\\n1977.9000244140625,50.70800018310547,50.71718215942383,6.280659198760986,134.43673706054688\\n1964.52001953125,51.63600158691406,49.9600944519043,6.337497711181641,134.63381958007812\\n1985.6300048828125,51.13600158691406,51.101890563964844,6.460648059844971,136.41751098632812\\n1994.489990234375,52.034000396728516,51.50138854980469,6.261713027954102,137.26499938964844\\n2000.81005859375,52.97600173950195,51.45947265625,6.0154128074646,138.67422485351562\\n1973.8199462890625,45.763999938964844,51.05257034301758,6.034358978271484,138.1519317626953\\n1943.050048828125,45.608001708984375,51.230125427246094,6.12908935546875,139.2852020263672\\n1912.449951171875,47.15399932861328,51.70853805541992,6.005939483642578,138.97972106933594\\n1898.530029296875,48.45199966430664,51.48659133911133,5.930155277252197,138.30960083007812\\n1866.780029296875,48.321998596191406,52.537139892578125,5.759639263153076,134.28892517089844\\n1855.3199462890625,46.77000045776367,51.4002799987793,5.560704231262207,136.05287170410156\\n1823.239990234375,46.86800003051758,50.312747955322266,5.428081035614014,134.90972900390625\\n1765.1300048828125,45.66400146484375,47.67898178100586,5.030211448669434,130.28794860839844\\n1787.8299560546875,46.150001525878906,48.58156204223633,5.191253662109375,132.7318878173828\\n1793.4000244140625,46.683998107910156,49.08464050292969,5.020738124847412,133.3132781982422\\n1832.8900146484375,47.65999984741211,50.1672477722168,5.191253662109375,136.87083435058594\\n1807.5799560546875,47.00199890136719,49.753849029541016,5.143887996673584,135.70799255371094\\n1784.9200439453125,45.801998138427734,49.627601623535156,5.077577114105225,133.81588745117188\\n1824.3399658203125,47.0,51.729251861572266,5.409135341644287,136.58505249023438\\n1762.9599609375,43.92399978637695,50.18952560424805,5.162834167480469,132.47186279296875\\n1776.1199951171875,43.12799835205078,49.93950653076172,4.93548059463501,132.1752471923828\\n1792.5699462890625,43.987998962402344,51.11781311035156,5.2291460037231445,134.59768676757812\\n1816.1199951171875,45.36600112915039,52.07086181640625,5.304930686950684,136.85202026367188\\n1801.3800048828125,45.172000885009766,52.07333755493164,5.371242523193359,135.71495056152344\\n1823.5400390625,44.16600036621094,52.63773727416992,5.579650402069092,137.2277069091797\\n1804.6600341796875,44.43000030517578,52.59318161010742,5.608069896697998,136.2290802001953\\n1749.6199951171875,42.279998779296875,50.16230010986328,5.361769676208496,131.8885040283203\\n1768.8699951171875,43.0,51.11533737182617,5.513339042663574,133.92532348632812\\n1761.8299560546875,42.816001892089844,50.5385627746582,5.57017707824707,134.21205139160156\\n1764.25,43.11800003051758,50.87770080566406,5.740693092346191,134.03407287597656\\n1786.4000244140625,44.34199905395508,51.73915100097656,5.827381610870361,136.5652618408203\\n1776.2900390625,45.12200164794922,51.67231369018555,5.971861839294434,136.30821228027344\\n1789.8399658203125,45.00199890136719,50.919776916503906,6.0489182472229,134.50868225097656\\n1800.6199951171875,44.13600158691406,51.783714294433594,6.125974655151367,136.08079528808594\\n1840.719970703125,45.91600036621094,52.79616165161133,6.097078800201416,138.47354125976562\\n1833.510009765625,45.4900016784668,52.79121017456055,6.154870510101318,137.53424072265625\\n1831.3499755859375,46.358001708984375,53.0164794921875,6.357143402099609,135.97203063964844\\n1820.550048828125,47.108001708984375,53.64276123046875,6.260822772979736,134.54824829101562\\n1822.989990234375,49.41999816894531,55.34834289550781,6.231926441192627,134.58775329589844\\n1843.550048828125,49.17399978637695,55.22456741333008,6.241559028625488,135.97203063964844\\n1839.3399658203125,49.040000915527344,54.150230407714844,6.318615436553955,135.77426147460938\\n1807.8399658203125,48.5620002746582,54.43490219116211,6.241559028625488,134.79542541503906\\n1822.550048828125,48.95800018310547,54.63294219970703,6.039286136627197,135.843505859375\\n1817.4599609375,48.698001861572266,55.14535903930664,6.000758171081543,136.9607696533203\\n1821.5,49.31999969482422,54.697303771972656,5.779221057891846,139.48207092285156\\n1794.1600341796875,48.124000549316406,53.897727966308594,5.702165126800537,137.8704071044922\\n1785.300048828125,48.24599838256836,54.14280319213867,5.8370137214660645,137.5737762451172\\n1741.6099853515625,44.641998291015625,53.885353088378906,5.808117866516113,135.83360290527344\\n1768.3299560546875,45.7400016784668,54.71462631225586,5.692532539367676,137.7913055419922\\n1739.8399658203125,48.512001037597656,54.432430267333984,5.605844974517822,137.9692840576172\\n1725.449951171875,48.42599868774414,54.16756057739258,5.576948642730713,136.1796417236328\\n1735.9100341796875,48.17399978637695,55.442405700683594,5.605844974517822,137.46502685546875\\n1735.6500244140625,48.9379997253418,55.59588623046875,5.470995903015137,135.527099609375\\n1713.22998046875,48.625999450683594,54.202213287353516,5.393939971923828,133.1343231201172\\n1724.4200439453125,46.60599899291992,54.66264343261719,5.210930824279785,134.7459716796875\\n1739.6500244140625,46.2859992980957,56.194942474365234,5.384307861328125,136.5652618408203\\n1732.6600341796875,47.54399871826172,56.20731735229492,5.403572082519531,135.57652282714844\\n1705.510009765625,48.0099983215332,55.548851013183594,5.451732158660889,134.14285278320312\\n1721.989990234375,48.90599822998047,56.199893951416016,5.8370137214660645,136.6839141845703\\n1720.260009765625,48.948001861572266,56.957374572753906,5.99112606048584,137.53424072265625\\n1731.9200439453125,49.577999114990234,58.47234344482422,5.933333873748779,138.10769653320312\\n1736.4300537109375,51.391998291015625,58.388179779052734,5.769588947296143,137.9791717529297\\n1767.3800048828125,51.577999114990234,58.25203323364258,5.663636684417725,139.9764404296875\\n1777.4300537109375,51.95000076293945,58.01686096191406,5.750324726104736,138.82948303222656\\n1787.47998046875,52.39400100708008,58.242130279541016,5.817749500274658,138.11758422851562\\n1757.510009765625,51.38999938964844,58.52185821533203,5.779221057891846,135.86325073242188\\n1785.6600341796875,50.70000076293945,59.536781311035156,5.865910053253174,136.87176513671875\\n1765.72998046875,51.11600112915039,59.400634765625,5.759957313537598,134.8349609375\\n1762.1700439453125,50.93600082397461,60.19772720336914,5.942965984344482,135.6951904296875\\n1780.780029296875,59.93600082397461,60.2967414855957,6.097078800201416,138.3647918701172\\n1761.3299560546875,65.6259994506836,61.03937530517578,5.894805908203125,139.1458740234375\\n1777.0799560546875,65.54199981689453,61.65081024169922,5.914069652557373,142.5669403076172\\n1762.7099609375,63.24399948120117,60.224952697753906,5.923701763153076,141.2222442626953\\n1779.989990234375,63.00199890136719,60.217525482177734,5.759957313537598,142.9822235107422\\n1776.6600341796875,62.98400115966797,61.57902145385742,5.509524345397949,141.75616455078125\\n1791.43994140625,62.6619987487793,63.326683044433594,5.750324726104736,142.10223388671875\\n1804.6600341796875,63.49399948120117,63.7425537109375,5.731060981750488,142.9228973388672\\n1801.7099609375,63.444000244140625,63.650970458984375,5.596212387084961,142.83392333984375\\n1795.77001953125,65.31600189208984,63.678192138671875,5.268723487854004,142.4384002685547\\n1788.199951171875,67.10800170898438,64.41311645507812,5.326516151428223,142.63613891601562\\n1785.8800048828125,67.4280014038086,64.58940887451172,5.307251453399658,144.3170166015625\\n1771.6500244140625,69.01799774169922,65.10087585449219,5.2205634117126465,144.46533203125\\n1778.0,69.98600006103516,65.0412826538086,5.307251453399658,145.41452026367188\\n1753.1099853515625,69.22200012207031,65.66448974609375,5.249459266662598,145.65182495117188\\n1754.5999755859375,69.87000274658203,65.21012115478516,5.14350700378418,146.39337158203125\\n1739.489990234375,70.43399810791016,65.98477935791016,5.230195045471191,148.28189086914062\\n1752.530029296875,69.99800109863281,66.31748962402344,5.191667079925537,148.64772033691406\\n1752.7900390625,71.90399932861328,66.11637115478516,5.182034969329834,148.6971435546875\\n1745.530029296875,70.44400024414062,65.34668731689453,5.20129919052124,148.43919372558594\\n1734.7099609375,70.96600341796875,65.05370330810547,5.316883563995361,148.30029296875\\n1745.719970703125,66.60800170898438,64.99659729003906,5.490260124206543,148.40943908691406\\n1773.8399658203125,67.26799774169922,66.13623046875,5.663636684417725,150.0364990234375\\n1796.93994140625,65.78399658203125,65.61978912353516,5.634740829467773,150.83018493652344\\n1818.510009765625,66.25800323486328,66.50121307373047,5.644372940063477,151.11790466308594\\n1800.800048828125,65.98799896240234,66.35472869873047,5.808117866516113,150.18531799316406\\n1781.5999755859375,66.9739990234375,65.58751678466797,5.689584732055664,148.36976623535156\\n1769.9599609375,67.23999786376953,64.4180908203125,5.383374214172363,148.13165283203125\\n1760.68994140625,66.60600280761719,64.98666381835938,5.472273826599121,148.66738891601562\\n1740.47998046875,66.0739974975586,65.9400863647461,5.4130072593688965,148.7467498779297\\n1751.5999755859375,67.1780014038086,67.21379852294922,5.462396621704102,150.55238342285156\\n1749.510009765625,67.90599822998047,66.27278900146484,5.4130072593688965,150.1654815673828\\n1739.2099609375,69.76799774169922,66.66012573242188,5.600684642791748,149.9373016357422\\n1748.719970703125,70.54000091552734,67.22869873046875,5.452518463134766,150.50277709960938\\n1760.3299560546875,71.93599700927734,67.40001678466797,5.245085716247559,152.0306396484375\\n1760.93994140625,71.6780014038086,68.31619262695312,5.35374116897583,153.31045532226562\\n1769.2099609375,76.30000305175781,69.4856185913086,5.36361837387085,154.30255126953125\\n1790.6600341796875,75.7979965209961,69.6221923828125,5.343863010406494,153.4691925048828\\n1784.030029296875,78.62999725341797,69.4558334350586,5.482151985168457,153.1517333984375\\n1792.280029296875,80.80799865722656,69.52535247802734,5.620440483093262,154.4811553955078\\n1786.5,81.11799621582031,69.38134765625,5.59080696105957,156.16773986816406\\n1793.0,83.84400177001953,70.51353454589844,5.768606662750244,156.16773986816406\\n1789.2099609375,85.05000305175781,70.58056640625,5.817995071411133,156.13795471191406\\n1868.77001953125,86.18800354003906,71.98091125488281,5.827873229980469,157.41778564453125\\n1869.800048828125,86.07599639892578,71.95359802246094,5.729095458984375,157.70550537109375\\n1846.8900146484375,82.94000244140625,72.38065338134766,5.758728504180908,156.34629821777344\\n1847.8399658203125,83.66600036621094,72.90950012207031,5.738973140716553,156.45542907714844\\n'"
      ]
     },
     "execution_count": 107,
     "metadata": {},
     "output_type": "execute_result"
    }
   ],
   "source": [
    "dadosYahooEmpresas.to_csv(index=False)#coloca os dados do DataFrame em um arquivo CSV "
   ]
  },
  {
   "cell_type": "code",
   "execution_count": 108,
   "metadata": {},
   "outputs": [
    {
     "data": {
      "text/plain": [
       "count     252.000000\n",
       "mean     1789.189206\n",
       "std       101.313650\n",
       "min      1500.280029\n",
       "25%      1735.845032\n",
       "50%      1786.450012\n",
       "75%      1855.319946\n",
       "max      2020.989990\n",
       "Name: AMZN, dtype: float64"
      ]
     },
     "execution_count": 108,
     "metadata": {},
     "output_type": "execute_result"
    }
   ],
   "source": [
    "dadosYahooEmpresas['AMZN'].describe(include='all') #Avaliando dados do DataFrame isoladamente"
   ]
  },
  {
   "cell_type": "markdown",
   "metadata": {},
   "source": [
    "## Referências\n",
    "\n",
    "   1. https://pandas.pydata.org/pandas-docs/stable/reference/api/pandas.DataFrame.html\n",
    "   2. https://www.udemy.com/course/python-para-investimentos-na-bolsa-de-valores\n",
    "   3. https://www.youtube.com/watch?v=UoB8w_RDXfM&t=1015s\n",
    "   4. https://www.youtube.com/channel/UCzCrdOO2GLYVnNhZUvG03lg"
   ]
  },
  {
   "cell_type": "markdown",
   "metadata": {},
   "source": [
    "# ;-D\n",
    "\n",
    "## Thanks !!"
   ]
  },
  {
   "cell_type": "code",
   "execution_count": null,
   "metadata": {},
   "outputs": [],
   "source": []
  }
 ],
 "metadata": {
  "kernelspec": {
   "display_name": "Python 3",
   "language": "python",
   "name": "python3"
  },
  "language_info": {
   "codemirror_mode": {
    "name": "ipython",
    "version": 3
   },
   "file_extension": ".py",
   "mimetype": "text/x-python",
   "name": "python",
   "nbconvert_exporter": "python",
   "pygments_lexer": "ipython3",
   "version": "3.8.2"
  }
 },
 "nbformat": 4,
 "nbformat_minor": 4
}
